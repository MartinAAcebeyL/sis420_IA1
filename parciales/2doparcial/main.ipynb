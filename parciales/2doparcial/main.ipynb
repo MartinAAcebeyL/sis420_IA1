{
  "nbformat": 4,
  "nbformat_minor": 0,
  "metadata": {
    "colab": {
      "name": "main.ipynb",
      "provenance": [],
      "collapsed_sections": []
    },
    "kernelspec": {
      "name": "python3",
      "display_name": "Python 3"
    },
    "language_info": {
      "name": "python"
    }
  },
  "cells": [
    {
      "cell_type": "code",
      "metadata": {
        "colab": {
          "base_uri": "https://localhost:8080/"
        },
        "id": "NfoN0IpOf3oA",
        "outputId": "f2997851-9a30-4977-9019-504d8ae70c5d"
      },
      "source": [
        "from google.colab import drive\n",
        "drive.mount('/content/drive')"
      ],
      "execution_count": 107,
      "outputs": [
        {
          "output_type": "stream",
          "text": [
            "Drive already mounted at /content/drive; to attempt to forcibly remount, call drive.mount(\"/content/drive\", force_remount=True).\n"
          ],
          "name": "stdout"
        }
      ]
    },
    {
      "cell_type": "code",
      "metadata": {
        "id": "IemzXapsY2ph"
      },
      "source": [
        "import os\n",
        "import numpy as np\n",
        "from matplotlib import pyplot\n",
        "\n",
        "from scipy import optimize\n",
        "%matplotlib inline"
      ],
      "execution_count": 108,
      "outputs": []
    },
    {
      "cell_type": "code",
      "metadata": {
        "id": "j8LWjlnEs-j-"
      },
      "source": [
        "data = np.loadtxt(os.path.join('/content/drive/MyDrive/colab/2doparcial/datasets/breast-cancer-wisconsin.txt'), delimiter=',')\n",
        "data = data[:600]\n",
        "data_trainer = data[600:]\n",
        "\n",
        "X, y = data[:, :10], data[:, 10]\n",
        "y[y == 2] = 0\n",
        "y[y == 4] = 1\n",
        "M, N = X.shape"
      ],
      "execution_count": 109,
      "outputs": []
    },
    {
      "cell_type": "code",
      "metadata": {
        "id": "b3P1WOuwJm58"
      },
      "source": [
        "def sigmoid(z):\n",
        "    z = np.array(z)\n",
        "    g = np.zeros(z.shape)\n",
        "    g = 1 / (1 + np.exp(-z))\n",
        "    return g"
      ],
      "execution_count": 110,
      "outputs": []
    },
    {
      "cell_type": "code",
      "metadata": {
        "id": "-zqwQkqqKKxj"
      },
      "source": [
        "def calcularCosto(theta, X, y):\n",
        "    m = y.size  # numero de ejemplos de entrenamiento\n",
        "    p = X.dot(theta.T)\n",
        "    h = sigmoid(p)\n",
        "    J = (1 / m) * np.sum(-y.dot(np.log(h)) - (1 - y).dot(np.log(1 - h)))    \n",
        "    return J"
      ],
      "execution_count": 111,
      "outputs": []
    },
    {
      "cell_type": "code",
      "metadata": {
        "id": "hQdHPdM-KUKU"
      },
      "source": [
        "def descensoGradiente(theta, X, y, alpha, num_iters):\n",
        "    m = y.shape[0] # numero de ejemplos de entrenamiento\n",
        "    theta = theta.copy()\n",
        "    J_history = []\n",
        "    \n",
        "    for i in range(num_iters):\n",
        "        h = sigmoid(X.dot(theta.T))\n",
        "        theta = theta - (alpha / m) * (h - y).dot(X)\n",
        "        J_history.append(calcularCosto(theta, X, y))\n",
        "    return theta, J_history"
      ],
      "execution_count": 112,
      "outputs": []
    },
    {
      "cell_type": "code",
      "metadata": {
        "id": "Cr__Mu9rhi3y"
      },
      "source": [
        "def normalizacion_media(X):\n",
        "    X_norm = X.copy()\n",
        "    mu = np.zeros(X.shape[1])\n",
        "    sigma = np.zeros(X.shape[1])\n",
        "    \n",
        "    mu = np.mean(X, axis = 0)\n",
        "    sigma = np.std(X, axis = 0)\n",
        "    X_norm = (X - mu) / sigma   \n",
        "    return X_norm, mu, sigma"
      ],
      "execution_count": 113,
      "outputs": []
    },
    {
      "cell_type": "code",
      "metadata": {
        "id": "H46MEDPPhnqC"
      },
      "source": [
        "X_norm, mu, sigma = normalizacion_media(X)"
      ],
      "execution_count": 114,
      "outputs": []
    },
    {
      "cell_type": "code",
      "metadata": {
        "colab": {
          "base_uri": "https://localhost:8080/"
        },
        "id": "MqEFl3yPJ33L",
        "outputId": "2417f0f8-ad15-4ec6-aae1-5919b8ef1e90"
      },
      "source": [
        "X = X_norm\n",
        "m, n = X.shape\n",
        "X = np.concatenate([np.ones((m, 1), dtype=int), X], axis=1)\n",
        "X.shape"
      ],
      "execution_count": 115,
      "outputs": [
        {
          "output_type": "execute_result",
          "data": {
            "text/plain": [
              "(600, 11)"
            ]
          },
          "metadata": {
            "tags": []
          },
          "execution_count": 115
        }
      ]
    },
    {
      "cell_type": "code",
      "metadata": {
        "colab": {
          "base_uri": "https://localhost:8080/",
          "height": 314
        },
        "id": "T-yZ36OMKHQz",
        "outputId": "29de488f-4397-4451-e2c7-6aa668c3fda9"
      },
      "source": [
        "alpha = 0.003\n",
        "num_iters = 11000\n",
        "\n",
        "theta = np.zeros(N+1)\n",
        "theta, J_history = descensoGradiente(theta, X, y, alpha, num_iters)\n",
        "\n",
        "pyplot.plot(np.arange(len(J_history)), J_history,lw=2)\n",
        "pyplot.xlabel('Numero de iteraciones')\n",
        "pyplot.ylabel('Costo J')\n",
        "\n",
        "print('{} theta calculado por el descenso por el gradiente: {:s}'.format(len(theta),str(theta)))"
      ],
      "execution_count": 122,
      "outputs": [
        {
          "output_type": "stream",
          "text": [
            "11 theta calculado por el descenso por el gradiente: [-0.64800825 -0.01942753  0.93338914  0.59452611  0.72687658  0.49292666\n",
            "  0.38077914  0.98037446  0.68396086  0.45760714  0.50458901]\n"
          ],
          "name": "stdout"
        },
        {
          "output_type": "display_data",
          "data": {
            "image/png": "[encoded data removed]",
            "text/plain": [
              "<Figure size 432x288 with 1 Axes>"
            ]
          },
          "metadata": {
            "tags": [],
            "needs_background": "light"
          }
        }
      ]
    },
    {
      "cell_type": "code",
      "metadata": {
        "colab": {
          "base_uri": "https://localhost:8080/"
        },
        "id": "N7kxckEg5gNz",
        "outputId": "63c8ec8f-2d5a-4769-fa12-5205982cfce2"
      },
      "source": [
        "X_array = [1,1017122,8,10,10,8,7,10,9,7,1]\n",
        "aprueba = sigmoid(np.dot(X_array, theta))\n",
        "print(':{:.2f}'.format(aprueba));"
      ],
      "execution_count": 124,
      "outputs": [
        {
          "output_type": "stream",
          "text": [
            ":0.00\n"
          ],
          "name": "stdout"
        },
        {
          "output_type": "stream",
          "text": [
            "/usr/local/lib/python3.7/dist-packages/ipykernel_launcher.py:4: RuntimeWarning: overflow encountered in exp\n",
            "  after removing the cwd from sys.path.\n"
          ],
          "name": "stderr"
        }
      ]
    }
  ]
}