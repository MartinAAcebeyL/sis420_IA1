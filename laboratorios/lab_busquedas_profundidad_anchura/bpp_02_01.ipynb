{
 "cells": [
  {
   "source": [
    "from Nodos import Nodo\n",
    "import copy\n",
    "\n",
    "\n",
    "def busqueda_BPPR(nodo_inicial, solucion, visitado):\n",
    "    visitado.append(nodo_inicial.get_estado())\n",
    "    if nodo_inicial.get_estado() == solucion:\n",
    "        return nodo_inicial\n",
    "    else:\n",
    "        # Expandir nodos sucesores (hijos)\n",
    "        datos_nodo = nodo_inicial.get_estado()\n",
    "        \n",
    "        actual_posicion_fila = -1\n",
    "        actual_posicion_celda = -1\n",
    "\n",
    "        \n",
    "        nueva_posicion_fila = -1\n",
    "        nueva_posicion_celda = -1\n",
    "#         print(actual_posicion_fila, actual_posicion_celda)\n",
    "              \n",
    "#       print(\"la posicion actual de la fila  y la celda es:\")\n",
    "#       print(actual_posicion_fila, actual_posicion_celda)\n",
    "        lista_hijos = []\n",
    "        datos_hijo_abajo = []\n",
    "        datos_hijo_arriba = []\n",
    "        datos_hijo_derecha = []\n",
    "        datos_hijo_izquierda = []\n",
    "        \n",
    "        datos_hijo_abajo = copy.deepcopy(datos_nodo)\n",
    "        datos_hijo_arriba = copy.deepcopy(datos_nodo)\n",
    "        datos_hijo_derecha = copy.deepcopy(datos_nodo)\n",
    "        datos_hijo_izquierda = copy.deepcopy(datos_nodo)\n",
    "        \n",
    "   \n",
    "        if actual_posicion_celda <= 3 and actual_posicion_celda > 0:\n",
    "            nueva_posicion_celda = actual_posicion_celda - 1\n",
    "            datos_hijo_izquierda[actual_posicion_fila][actual_posicion_celda] = '0'\n",
    "            datos_hijo_izquierda[actual_posicion_fila][nueva_posicion_celda] = 'X'\n",
    "            hijo_izquierda = Nodo(datos_hijo_izquierda)\n",
    "#             print(hijo_izquierda.get_estado())\n",
    "            lista_hijos.append(hijo_izquierda) \n",
    "\n",
    "        if actual_posicion_fila >= 0 and actual_posicion_fila < 3:\n",
    "            nueva_posicion_fila = actual_posicion_fila + 1\n",
    "            datos_hijo_abajo[actual_posicion_fila][actual_posicion_celda] = '0'\n",
    "            datos_hijo_abajo[nueva_posicion_fila][actual_posicion_celda] = 'X'\n",
    "            hijo_abajo = Nodo(datos_hijo_abajo)\n",
    "#             print(hijo_abajo.get_estado())\n",
    "            lista_hijos.append(hijo_abajo) \n",
    "            \n",
    "        if actual_posicion_fila <= 3 and actual_posicion_fila > 0:\n",
    "            nueva_posicion_fila = actual_posicion_fila - 1\n",
    "            datos_hijo_arriba[actual_posicion_fila][actual_posicion_celda] = '0'\n",
    "            datos_hijo_arriba[nueva_posicion_fila][actual_posicion_celda] = 'X'\n",
    "            hijo_arriba = Nodo(datos_hijo_arriba)\n",
    "#             print(hijo_arriba.get_estado())\n",
    "            lista_hijos.append(hijo_arriba)\n",
    "            \n",
    "        if actual_posicion_celda >= 0 and actual_posicion_celda < 3:\n",
    "            nueva_posicion_celda = actual_posicion_celda + 1\n",
    "            datos_hijo_derecha[actual_posicion_fila][actual_posicion_celda] = '0'\n",
    "            datos_hijo_derecha[actual_posicion_fila][nueva_posicion_celda] = 'X'\n",
    "            hijo_derecha = Nodo(datos_hijo_derecha)\n",
    "#             print(hijo_derecha.get_estado())\n",
    "            lista_hijos.append(hijo_derecha)\n",
    "                 \n",
    "#         print(lista_hijos)\n",
    "        nodo_inicial.set_hijo(lista_hijos)\n",
    "  \n",
    "        for nodo_hijo in nodo_inicial.get_hijo():\n",
    "            if not nodo_hijo.get_estado() in visitado:\n",
    "                # Llamada Recursiva\n",
    "                Solution = busqueda_BPPR(nodo_hijo, solucion, visitado)\n",
    "                if Solution is not None:\n",
    "                    return Solution\n",
    "        return None"
   ],
   "cell_type": "code",
   "metadata": {},
   "execution_count": 1,
   "outputs": []
  },
  {
   "cell_type": "code",
   "execution_count": 4,
   "metadata": {},
   "outputs": [
    {
     "output_type": "error",
     "ename": "AttributeError",
     "evalue": "'NoneType' object has no attribute 'get_padre'",
     "traceback": [
      "\u001b[1;31m---------------------------------------------------------------------------\u001b[0m",
      "\u001b[1;31mAttributeError\u001b[0m                            Traceback (most recent call last)",
      "\u001b[1;32m<ipython-input-4-a02ab037f96e>\u001b[0m in \u001b[0;36m<module>\u001b[1;34m\u001b[0m\n\u001b[0;32m     10\u001b[0m \u001b[1;31m#     Mostrar Resultado\u001b[0m\u001b[1;33m\u001b[0m\u001b[1;33m\u001b[0m\u001b[1;33m\u001b[0m\u001b[0m\n\u001b[0;32m     11\u001b[0m     \u001b[0mresultado\u001b[0m \u001b[1;33m=\u001b[0m \u001b[1;33m[\u001b[0m\u001b[1;33m]\u001b[0m\u001b[1;33m\u001b[0m\u001b[1;33m\u001b[0m\u001b[0m\n\u001b[1;32m---> 12\u001b[1;33m     \u001b[1;32mwhile\u001b[0m \u001b[0mnodo_actual\u001b[0m\u001b[1;33m.\u001b[0m\u001b[0mget_padre\u001b[0m\u001b[1;33m(\u001b[0m\u001b[1;33m)\u001b[0m \u001b[1;32mis\u001b[0m \u001b[1;32mnot\u001b[0m \u001b[1;32mNone\u001b[0m\u001b[1;33m:\u001b[0m\u001b[1;33m\u001b[0m\u001b[1;33m\u001b[0m\u001b[0m\n\u001b[0m\u001b[0;32m     13\u001b[0m         \u001b[0mresultado\u001b[0m\u001b[1;33m.\u001b[0m\u001b[0mappend\u001b[0m\u001b[1;33m(\u001b[0m\u001b[0mnodo_actual\u001b[0m\u001b[1;33m.\u001b[0m\u001b[0mget_estado\u001b[0m\u001b[1;33m(\u001b[0m\u001b[1;33m)\u001b[0m\u001b[1;33m)\u001b[0m\u001b[1;33m\u001b[0m\u001b[1;33m\u001b[0m\u001b[0m\n\u001b[0;32m     14\u001b[0m         \u001b[0mnodo_actual\u001b[0m \u001b[1;33m=\u001b[0m \u001b[0mnodo_actual\u001b[0m\u001b[1;33m.\u001b[0m\u001b[0mget_padre\u001b[0m\u001b[1;33m(\u001b[0m\u001b[1;33m)\u001b[0m\u001b[1;33m\u001b[0m\u001b[1;33m\u001b[0m\u001b[0m\n",
      "\u001b[1;31mAttributeError\u001b[0m: 'NoneType' object has no attribute 'get_padre'"
     ]
    }
   ],
   "source": [
    "if __name__ == \"__main__\":\n",
    "    estado_inicial = [['0', '0', '0', '0'], ['0', 'X', '0', '0'], ['0', '0', '0', '0'], ['0', '0', '0', '0']]\n",
    "    solucion = [['0', '0', '0', '0'], ['0', '0', '0', '0'], ['0', '0', '0', '0'], ['0', '0', '0', 'X']]\n",
    "    nodo_solucion = None\n",
    "    visitado = []\n",
    "    nodo_inicial = Nodo(estado_inicial)\n",
    "    nodo_actual = busqueda_BPPR(nodo_inicial, solucion, visitado)\n",
    "\n",
    "#     print(nodo_actual.get_estado())\n",
    "#     Mostrar Resultado\n",
    "    resultado = []\n",
    "    while nodo_actual.get_padre() is not None:\n",
    "        resultado.append(nodo_actual.get_estado())\n",
    "        nodo_actual = nodo_actual.get_padre()\n",
    "    resultado.append(nodo_inicial.get_estado())\n",
    "    resultado.reverse()\n",
    "    \n",
    "    for estado in resultado:\n",
    "        for fila in estado:\n",
    "            print(fila)\n",
    "        print(\"---------\")"
   ]
  }
 ],
 "metadata": {
  "kernelspec": {
   "name": "python391jvsc74a57bd0c569cd2e17f62341e0f08a54f9a867c3c0d3a6f67454072d7de41a8b5dff8343",
   "display_name": "Python 3.9.1 64-bit"
  },
  "language_info": {
   "codemirror_mode": {
    "name": "ipython",
    "version": 3
   },
   "file_extension": ".py",
   "mimetype": "text/x-python",
   "name": "python",
   "nbconvert_exporter": "python",
   "pygments_lexer": "ipython3",
   "version": "3.9.1"
  },
  "metadata": {
   "interpreter": {
    "hash": "c569cd2e17f62341e0f08a54f9a867c3c0d3a6f67454072d7de41a8b5dff8343"
   }
  }
 },
 "nbformat": 4,
 "nbformat_minor": 4
}