{
 "metadata": {
  "language_info": {
   "codemirror_mode": {
    "name": "ipython",
    "version": 3
   },
   "file_extension": ".py",
   "mimetype": "text/x-python",
   "name": "python",
   "nbconvert_exporter": "python",
   "pygments_lexer": "ipython3",
   "version": "3.9.1"
  },
  "orig_nbformat": 2,
  "kernelspec": {
   "name": "python391jvsc74a57bd0c569cd2e17f62341e0f08a54f9a867c3c0d3a6f67454072d7de41a8b5dff8343",
   "display_name": "Python 3.9.1 64-bit"
  },
  "metadata": {
   "interpreter": {
    "hash": "c569cd2e17f62341e0f08a54f9a867c3c0d3a6f67454072d7de41a8b5dff8343"
   }
  }
 },
 "nbformat": 4,
 "nbformat_minor": 2,
 "cells": [
  {
   "cell_type": "code",
   "execution_count": 1,
   "metadata": {},
   "outputs": [],
   "source": [
    "import os\n",
    "import numpy as np \n",
    "import pandas as pd \n",
    "\n",
    "from matplotlib import pyplot\n",
    "from mpl_toolkits.mplot3d import Axes3D"
   ]
  },
  {
   "source": [
    "## Extrayendo datos"
   ],
   "cell_type": "markdown",
   "metadata": {}
  },
  {
   "cell_type": "code",
   "execution_count": 4,
   "metadata": {},
   "outputs": [
    {
     "output_type": "stream",
     "name": "stdout",
     "text": [
      "0        0\n1        1\n2        0\n3        0\n4        0\n        ..\n68715    1\n68716    1\n68717    1\n68718    0\n68719    0\nName: RERA, Length: 68720, dtype: int64\n"
     ]
    }
   ],
   "source": [
    "# Cargar datos\n",
    "\n",
    "data = pd.read_csv('datasets/test.csv',delimiter=',')\n",
    "\n",
    "print(data['RERA'])\n",
    "dic = dict(data)\n",
    "\n",
    "new_data=pd.DataFrame(dic,columns=['UNDER_CONSTRUCTION','RERA', 'BHK_NO.', 'SQUARE_FT','ADDRESS'])\n",
    "new_data = new_data[:100]\n",
    "\n",
    "new_data = new_data.rename(columns={'UNDER_CONSTRUCTION':'En Contruccion'})\n",
    "new_data = new_data.rename(columns={'RERA':'DDRR'})\n",
    "new_data = new_data.rename(columns={'BHK_NO.':'# Cuartos'})\n",
    "new_data = new_data.rename(columns={'ADDRESS':'Calle'})\n",
    "new_data = new_data.rename(columns={'SQUARE_FT':'Area'})\n",
    "#print(new_data)"
   ]
  },
  {
   "cell_type": "code",
   "execution_count": 5,
   "metadata": {},
   "outputs": [
    {
     "output_type": "stream",
     "name": "stdout",
     "text": [
      "{'En Contruccion': 0     0\n1     1\n2     0\n3     0\n4     0\n     ..\n95    0\n96    0\n97    0\n98    0\n99    0\nName: En Contruccion, Length: 100, dtype: int64, 'DDRR': 0     0\n1     1\n2     0\n3     0\n4     0\n     ..\n95    1\n96    0\n97    0\n98    1\n99    0\nName: DDRR, Length: 100, dtype: int64, '# Cuartos': 0      1\n1      2\n2      2\n3      3\n4      1\n      ..\n95     2\n96     2\n97    10\n98     2\n99     2\nName: # Cuartos, Length: 100, dtype: int64, 'Area': 0      545.171340\n1      800.000000\n2     1257.096513\n3     1400.329489\n4      430.477830\n         ...     \n95    1120.238984\n96     890.000000\n97    2481.016465\n98    1027.066216\n99     810.170759\nName: Area, Length: 100, dtype: float64, 'Calle': 0                      Kamrej,Surat\n1                   Panvel,Lalitpur\n2                  New Town,Kolkata\n3                Kalwar Road,Jaipur\n4                 Mai Mandir,Nadiad\n                  ...              \n95    Sector 80 Faridabad,Faridabad\n96              Champasari,Siliguri\n97          Kaggadasapura,Bangalore\n98                   Hinjewadi,Pune\n99     Kandivali (East),Maharashtra\nName: Calle, Length: 100, dtype: object}\n"
     ]
    }
   ],
   "source": [
    "dic = dict(new_data)\n",
    "print(dic)"
   ]
  },
  {
   "cell_type": "code",
   "execution_count": 2,
   "metadata": {},
   "outputs": [
    {
     "output_type": "execute_result",
     "data": {
      "text/plain": [
       "           ADDRESS      SUBURB   PRICE  BEDROOMS  BATHROOMS  GARAGE  \\\n",
       "0    1 Acorn Place  South Lake  565000         4          2     2.0   \n",
       "1      1 Addis Way       Wandi  365000         3          2     2.0   \n",
       "2  1 Ainsley Court     Camillo  287000         3          1     1.0   \n",
       "3  1 Albert Street    Bellevue  255000         2          1     2.0   \n",
       "4     1 Aman Place   Lockridge  325000         4          1     2.0   \n",
       "\n",
       "   LAND_AREA  FLOOR_AREA  BUILD_YEAR  CBD_DIST               NEAREST_STN  \\\n",
       "0        600         160      2003.0     18300  Cockburn Central Station   \n",
       "1        351         139      2013.0     26900           Kwinana Station   \n",
       "2        719          86      1979.0     22600           Challis Station   \n",
       "3        651          59      1953.0     17900           Midland Station   \n",
       "4        466         131      1998.0     11200        Bassendean Station   \n",
       "\n",
       "   NEAREST_STN_DIST  DATE_SOLD  POSTCODE   LATITUDE   LONGITUDE  \\\n",
       "0              1800  09-2018\\r      6164 -32.115900  115.842450   \n",
       "1              4900  02-2019\\r      6167 -32.193470  115.859554   \n",
       "2              1900  06-2015\\r      6111 -32.120578  115.993579   \n",
       "3              3600  07-2018\\r      6056 -31.900547  116.038009   \n",
       "4              2000  11-2016\\r      6054 -31.885790  115.947780   \n",
       "\n",
       "                    NEAREST_SCH  NEAREST_SCH_DIST  NEAREST_SCH_RANK  \n",
       "0   LAKELAND SENIOR HIGH SCHOOL          0.828339               NaN  \n",
       "1                ATWELL COLLEGE          5.524324             129.0  \n",
       "2  KELMSCOTT SENIOR HIGH SCHOOL          1.649178             113.0  \n",
       "3  SWAN VIEW SENIOR HIGH SCHOOL          1.571401               NaN  \n",
       "4                 KIARA COLLEGE          1.514922               NaN  "
      ],
      "text/html": "<div>\n<style scoped>\n    .dataframe tbody tr th:only-of-type {\n        vertical-align: middle;\n    }\n\n    .dataframe tbody tr th {\n        vertical-align: top;\n    }\n\n    .dataframe thead th {\n        text-align: right;\n    }\n</style>\n<table border=\"1\" class=\"dataframe\">\n  <thead>\n    <tr style=\"text-align: right;\">\n      <th></th>\n      <th>ADDRESS</th>\n      <th>SUBURB</th>\n      <th>PRICE</th>\n      <th>BEDROOMS</th>\n      <th>BATHROOMS</th>\n      <th>GARAGE</th>\n      <th>LAND_AREA</th>\n      <th>FLOOR_AREA</th>\n      <th>BUILD_YEAR</th>\n      <th>CBD_DIST</th>\n      <th>NEAREST_STN</th>\n      <th>NEAREST_STN_DIST</th>\n      <th>DATE_SOLD</th>\n      <th>POSTCODE</th>\n      <th>LATITUDE</th>\n      <th>LONGITUDE</th>\n      <th>NEAREST_SCH</th>\n      <th>NEAREST_SCH_DIST</th>\n      <th>NEAREST_SCH_RANK</th>\n    </tr>\n  </thead>\n  <tbody>\n    <tr>\n      <th>0</th>\n      <td>1 Acorn Place</td>\n      <td>South Lake</td>\n      <td>565000</td>\n      <td>4</td>\n      <td>2</td>\n      <td>2.0</td>\n      <td>600</td>\n      <td>160</td>\n      <td>2003.0</td>\n      <td>18300</td>\n      <td>Cockburn Central Station</td>\n      <td>1800</td>\n      <td>09-2018\\r</td>\n      <td>6164</td>\n      <td>-32.115900</td>\n      <td>115.842450</td>\n      <td>LAKELAND SENIOR HIGH SCHOOL</td>\n      <td>0.828339</td>\n      <td>NaN</td>\n    </tr>\n    <tr>\n      <th>1</th>\n      <td>1 Addis Way</td>\n      <td>Wandi</td>\n      <td>365000</td>\n      <td>3</td>\n      <td>2</td>\n      <td>2.0</td>\n      <td>351</td>\n      <td>139</td>\n      <td>2013.0</td>\n      <td>26900</td>\n      <td>Kwinana Station</td>\n      <td>4900</td>\n      <td>02-2019\\r</td>\n      <td>6167</td>\n      <td>-32.193470</td>\n      <td>115.859554</td>\n      <td>ATWELL COLLEGE</td>\n      <td>5.524324</td>\n      <td>129.0</td>\n    </tr>\n    <tr>\n      <th>2</th>\n      <td>1 Ainsley Court</td>\n      <td>Camillo</td>\n      <td>287000</td>\n      <td>3</td>\n      <td>1</td>\n      <td>1.0</td>\n      <td>719</td>\n      <td>86</td>\n      <td>1979.0</td>\n      <td>22600</td>\n      <td>Challis Station</td>\n      <td>1900</td>\n      <td>06-2015\\r</td>\n      <td>6111</td>\n      <td>-32.120578</td>\n      <td>115.993579</td>\n      <td>KELMSCOTT SENIOR HIGH SCHOOL</td>\n      <td>1.649178</td>\n      <td>113.0</td>\n    </tr>\n    <tr>\n      <th>3</th>\n      <td>1 Albert Street</td>\n      <td>Bellevue</td>\n      <td>255000</td>\n      <td>2</td>\n      <td>1</td>\n      <td>2.0</td>\n      <td>651</td>\n      <td>59</td>\n      <td>1953.0</td>\n      <td>17900</td>\n      <td>Midland Station</td>\n      <td>3600</td>\n      <td>07-2018\\r</td>\n      <td>6056</td>\n      <td>-31.900547</td>\n      <td>116.038009</td>\n      <td>SWAN VIEW SENIOR HIGH SCHOOL</td>\n      <td>1.571401</td>\n      <td>NaN</td>\n    </tr>\n    <tr>\n      <th>4</th>\n      <td>1 Aman Place</td>\n      <td>Lockridge</td>\n      <td>325000</td>\n      <td>4</td>\n      <td>1</td>\n      <td>2.0</td>\n      <td>466</td>\n      <td>131</td>\n      <td>1998.0</td>\n      <td>11200</td>\n      <td>Bassendean Station</td>\n      <td>2000</td>\n      <td>11-2016\\r</td>\n      <td>6054</td>\n      <td>-31.885790</td>\n      <td>115.947780</td>\n      <td>KIARA COLLEGE</td>\n      <td>1.514922</td>\n      <td>NaN</td>\n    </tr>\n  </tbody>\n</table>\n</div>"
     },
     "metadata": {},
     "execution_count": 2
    }
   ],
   "source": [
    "data = pd.read_csv('datasets/all_casa.csv',delimiter=',')\n",
    "data[:5]"
   ]
  },
  {
   "cell_type": "code",
   "execution_count": 3,
   "metadata": {},
   "outputs": [],
   "source": [
    "data = pd.read_csv('datasets/all_casa.csv',delimiter=',')\n",
    "dic  = dict(data)\n",
    "#print(data)\n",
    "\n",
    "data = pd.DataFrame(dic, columns=['BEDROOMS', 'BATHROOMS', 'GARAGE', 'LAND_AREA', 'FLOOR_AREA', 'BUILD_YEAR', 'CBD_DIST', 'NEAREST_SCH_DIST','LATITUDE', 'LONGITUDE','PRICE','ADDRESS', 'DATE_SOLD'])\n",
    "data = data[:120]\n",
    "\n",
    "data = data.rename(columns={'ADDRESS':'Direccion'})\n",
    "data = data.rename(columns={'PRICE':'Precio'})\n",
    "data = data.rename(columns={'BEDROOMS':'Cuartos'})\n",
    "data = data.rename(columns={'BATHROOMS':'Baños'})\n",
    "data = data.rename(columns={'LAND_AREA':'Area'})\n",
    "\n",
    "data = data.rename(columns={'FLOOR_AREA':'Construido'})\n",
    "data = data.rename(columns={'BUILD_YEAR':'Año'})\n",
    "data = data.rename(columns={'CBD_DIST':'Dis_Cento'})\n",
    "data = data.rename(columns={'DATE_SOLD':'Ult_venta'})\n",
    "data = data.rename(columns={'NEAREST_SCH_DIST':'Dis_Escuela'})\n",
    "data = pd.DataFrame(data)\n",
    "\n",
    "#print(data[:5])\n",
    "\n",
    "data.reset_index().to_csv('Data_Casas.csv', header=True, index=False)"
   ]
  },
  {
   "cell_type": "code",
   "execution_count": 7,
   "metadata": {},
   "outputs": [
    {
     "output_type": "stream",
     "name": "stdout",
     "text": [
      "     index  Cuartos  Baños  GARAGE  Area m2  Construido     Año  Dis_Cento  \\\n0        0        4      2     2.0      600         160  2003.0      18300   \n1        1        3      2     2.0      351         139  2013.0      26900   \n2        2        3      1     1.0      719          86  1979.0      22600   \n3        3        2      1     2.0      651          59  1953.0      17900   \n4        4        4      1     2.0      466         131  1998.0      11200   \n..     ...      ...    ...     ...      ...         ...     ...        ...   \n115    115        2      1     2.0     1100         497  1958.0       9300   \n116    116        4      2     4.0      580         140  2006.0      42900   \n117    117        4      2     2.0      694         246  2010.0      32600   \n118    118        3      2     2.0      327         171  2008.0      15900   \n119    119        4      2     1.0      450         150  2002.0      12600   \n\n     Dis_Escuela   Precio          Direccion  Ult_venta  \n0       0.828339   565000      1 Acorn Place  09-2018\\r  \n1       5.524324   365000        1 Addis Way  02-2019\\r  \n2       1.649178   287000    1 Ainsley Court  06-2015\\r  \n3       1.571401   255000    1 Albert Street  07-2018\\r  \n4       1.514922   325000       1 Aman Place  11-2016\\r  \n..           ...      ...                ...        ...  \n115     1.335489  2200000  1 Curruthers Road  12-2018\\r  \n116     1.362245   375000     1 Cypress Mews  09-2018\\r  \n117     0.923652   495000   1 Dagostino Road  11-2020\\r  \n118     0.308294   445000       1 Dalkey Way  09-2016\\r  \n119     1.000877   515000    1 Danzil Street  07-2019\\r  \n\n[120 rows x 12 columns]\n"
     ]
    }
   ],
   "source": [
    "data = pd.read_csv('datasets/Data_Casas.csv')\n",
    "\n",
    "d = pd.DataFrame(data)\n",
    "print(d)"
   ]
  },
  {
   "cell_type": "code",
   "execution_count": null,
   "metadata": {},
   "outputs": [],
   "source": []
  }
 ]
}