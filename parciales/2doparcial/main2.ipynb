{
  "nbformat": 4,
  "nbformat_minor": 0,
  "metadata": {
    "colab": {
      "name": "main2.ipynb",
      "provenance": [],
      "collapsed_sections": []
    },
    "kernelspec": {
      "name": "python3",
      "display_name": "Python 3"
    },
    "language_info": {
      "name": "python"
    }
  },
  "cells": [
    {
      "cell_type": "code",
      "metadata": {
        "colab": {
          "base_uri": "https://localhost:8080/"
        },
        "id": "ndkJnqfA2aby",
        "outputId": "4659a2aa-39cd-42d0-c1f9-a3812e78026e"
      },
      "source": [
        "from google.colab import drive\n",
        "drive.mount('/content/drive')"
      ],
      "execution_count": 132,
      "outputs": [
        {
          "output_type": "stream",
          "text": [
            "Drive already mounted at /content/drive; to attempt to forcibly remount, call drive.mount(\"/content/drive\", force_remount=True).\n"
          ],
          "name": "stdout"
        }
      ]
    },
    {
      "cell_type": "code",
      "metadata": {
        "id": "5he7yeO-2WnT"
      },
      "source": [
        "import os\n",
        "import numpy as np\n",
        "from matplotlib import pyplot\n",
        "\n",
        "from scipy import optimize\n",
        "\n",
        "%matplotlib inline"
      ],
      "execution_count": 133,
      "outputs": []
    },
    {
      "cell_type": "code",
      "metadata": {
        "id": "PjH3fgZ12dGp"
      },
      "source": [
        "data = np.loadtxt(os.path.join('/content/drive/MyDrive/colab/2doparcial/datasets/breast-cancer-wisconsin.txt'), dtype=int, delimiter=',')\n",
        "data_trainer = data[600:]\n",
        "data = data[:600]\n",
        "\n",
        "X_trainer, y_trainer = data_trainer[:, 1:10], data_trainer[:, 10]\n",
        "y_trainer[y_trainer == 2] = 0\n",
        "y_trainer[y_trainer == 4] = 1\n",
        "\n",
        "X, y = data[:, 1:10], data[:, 10]\n",
        "y[y == 2] = 0\n",
        "y[y == 4] = 1\n",
        "M, N = X.shape"
      ],
      "execution_count": 134,
      "outputs": []
    },
    {
      "cell_type": "code",
      "metadata": {
        "id": "nK44P96h2ezi"
      },
      "source": [
        "def sigmoid(z):\n",
        "    z = np.array(z)\n",
        "    g = np.zeros(z.shape)\n",
        "    g = 1 / (1 + np.exp(-z))\n",
        "    return g"
      ],
      "execution_count": 135,
      "outputs": []
    },
    {
      "cell_type": "code",
      "metadata": {
        "id": "Qv7UaNSP2h4J"
      },
      "source": [
        "def normalEqn(X, y):\n",
        "    thetas = np.zeros(X.shape[1])\n",
        "    thetas = np.dot(np.dot(np.linalg.inv(np.dot(X.T,X)),X.T),y)\n",
        "    return thetas"
      ],
      "execution_count": 136,
      "outputs": []
    },
    {
      "cell_type": "code",
      "metadata": {
        "colab": {
          "base_uri": "https://localhost:8080/"
        },
        "id": "3sIWYbPL2jGw",
        "outputId": "9db6e034-0015-4681-d442-3b4af627e259"
      },
      "source": [
        "m, n = X.shape\n",
        "X = np.concatenate([np.ones((m, 1), dtype=int), X], axis=1)\n",
        "theta = normalEqn(X, y)\n",
        "\n",
        "# Muestra los resultados optenidos a partir de la aplicación de la ecuación de la normal\n",
        "print('Theta calculado a partir de la ecuación de la normal: {:s}'.format(str(theta)));"
      ],
      "execution_count": 137,
      "outputs": [
        {
          "output_type": "stream",
          "text": [
            "Theta calculado a partir de la ecuación de la normal: [-0.25555372  0.03656304  0.01642093  0.01944975  0.00644575  0.00856914\n",
            "  0.04688495  0.01761268  0.01438333  0.00699089]\n"
          ],
          "name": "stdout"
        }
      ]
    },
    {
      "cell_type": "code",
      "metadata": {
        "colab": {
          "base_uri": "https://localhost:8080/"
        },
        "id": "9CkaZnAc_iIc",
        "outputId": "036fbc95-2e54-4198-f049-c7d4db152fe9"
      },
      "source": [
        "X_array = [1,8,10,10,8,7,10,9,7,1]\n",
        "aprueba = sigmoid(np.dot(X_array, theta))\n",
        "print(':{:.2f}'.format(aprueba))"
      ],
      "execution_count": 138,
      "outputs": [
        {
          "output_type": "stream",
          "text": [
            ":0.78\n"
          ],
          "name": "stdout"
        }
      ]
    },
    {
      "cell_type": "code",
      "metadata": {
        "colab": {
          "base_uri": "https://localhost:8080/"
        },
        "id": "xNWQbtT2SmcS",
        "outputId": "fed5819f-a399-4b5f-c585-5d7154346f56"
      },
      "source": [
        "t = []\n",
        "for i in X_trainer:\n",
        "    i = list(i) \n",
        "    i.insert(0, 1)\n",
        "    r = sigmoid(np.dot(i, theta))\n",
        "    t.append(r)\n",
        "t = np.array(t).round()\n",
        "#print('Precisión de entrenamiento: {:.2f} %'.format(np.mean(t == y_trainer) * 100))\n",
        "\n",
        "for i in t:\n",
        "  pass\n",
        "  #print('{:.0f}'.format(i))"
      ],
      "execution_count": 154,
      "outputs": [
        {
          "output_type": "stream",
          "text": [
            "Precisión de entrenamiento: 51.52 %\n"
          ],
          "name": "stdout"
        }
      ]
    },
    {
      "cell_type": "code",
      "metadata": {
        "id": "YrdnYFmLcwEV"
      },
      "source": [
        ""
      ],
      "execution_count": null,
      "outputs": []
    }
  ]
}