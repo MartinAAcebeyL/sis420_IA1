{
 "metadata": {
  "language_info": {
   "codemirror_mode": {
    "name": "ipython",
    "version": 3
   },
   "file_extension": ".py",
   "mimetype": "text/x-python",
   "name": "python",
   "nbconvert_exporter": "python",
   "pygments_lexer": "ipython3",
   "version": "3.9.1"
  },
  "orig_nbformat": 2,
  "kernelspec": {
   "name": "python3",
   "display_name": "Python 3.9.1 64-bit"
  },
  "metadata": {
   "interpreter": {
    "hash": "c569cd2e17f62341e0f08a54f9a867c3c0d3a6f67454072d7de41a8b5dff8343"
   }
  },
  "interpreter": {
   "hash": "c569cd2e17f62341e0f08a54f9a867c3c0d3a6f67454072d7de41a8b5dff8343"
  }
 },
 "nbformat": 4,
 "nbformat_minor": 2,
 "cells": [
  {
   "cell_type": "code",
   "execution_count": null,
   "metadata": {},
   "outputs": [],
   "source": [
    "import os\n",
    "import numpy as np \n",
    "import pandas as pd "
   ]
  },
  {
   "cell_type": "code",
   "execution_count": null,
   "metadata": {},
   "outputs": [],
   "source": [
    "data = pd.read_csv('wine.csv')\n",
    "data1 = pd.read_csv('wineQualityReds.csv')"
   ]
  },
  {
   "cell_type": "code",
   "execution_count": null,
   "metadata": {},
   "outputs": [],
   "source": [
    "data.head()"
   ]
  },
  {
   "cell_type": "code",
   "execution_count": null,
   "metadata": {},
   "outputs": [],
   "source": [
    "data1[:10]"
   ]
  },
  {
   "cell_type": "code",
   "execution_count": null,
   "metadata": {},
   "outputs": [],
   "source": [
    "dic_data1 = dict(data1)\n",
    "\t\n",
    "data = data.assign(fixed_acidity=dic_data1['fixed.acidity'])\n",
    "data = data.assign(volatile_acidity=dic_data1['volatile.acidity'])\n",
    "data = data.assign(citric_acid=dic_data1['citric.acid'])\n",
    "data = data.assign(residual_sugar=dic_data1['residual.sugar'])\n",
    "data = data.assign(chlorides=dic_data1['chlorides'])\n",
    "data = data.assign(free_sulfur_dioxide=dic_data1['free.sulfur.dioxide'])\n",
    "data = data.assign(total_sulfur_dioxide=dic_data1['total.sulfur.dioxide'])\n",
    "data = data.assign(density=dic_data1['density'])\n",
    "data = data.assign(pH=dic_data1['pH'])\n",
    "data = data.assign(sulphates=dic_data1['sulphates'])\n",
    "data.head()"
   ]
  },
  {
   "cell_type": "code",
   "execution_count": null,
   "metadata": {},
   "outputs": [],
   "source": [
    "data = data.fillna(0)\n",
    "data = data[:175]\n",
    "data.reset_index().to_csv('lab7_1.csv', header=True,index=False)"
   ]
  },
  {
   "cell_type": "code",
   "execution_count": null,
   "metadata": {},
   "outputs": [],
   "source": []
  }
 ]
}