{
 "cells": [
  {
   "cell_type": "code",
   "execution_count": 1,
   "metadata": {},
   "outputs": [],
   "source": [
    "import math\n",
    "import os\n",
    "import sys\n",
    "import time\n",
    "from queue import PriorityQueue"
   ]
  },
  {
   "cell_type": "code",
   "execution_count": 2,
   "metadata": {},
   "outputs": [],
   "source": [
    "class Tablero:\n",
    "    def __init__(self, estados):\n",
    "        self.tamano = int(math.sqrt(len(estados)))\n",
    "        self.estados = estados\n",
    "\n",
    "    def ejecutar_accion(self, accion):\n",
    "        nuevos_estados = self.estados[:]\n",
    "        indice_vacio = nuevos_estados.index('0')\n",
    "        if accion == 'L':\n",
    "            if indice_vacio % self.tamano > 0:\n",
    "                nuevos_estados[indice_vacio - 1], nuevos_estados[indice_vacio] = nuevos_estados[indice_vacio], nuevos_estados[indice_vacio - 1]\n",
    "        if accion == 'R':\n",
    "            if indice_vacio % self.tamano < (self.tamano - 1):\n",
    "                nuevos_estados[indice_vacio + 1], nuevos_estados[indice_vacio] = nuevos_estados[indice_vacio], nuevos_estados[indice_vacio + 1]\n",
    "        if accion == 'U':\n",
    "            if indice_vacio - self.tamano >= 0:\n",
    "                nuevos_estados[indice_vacio - self.tamano], nuevos_estados[indice_vacio] = nuevos_estados[indice_vacio], nuevos_estados[\n",
    "                    indice_vacio - self.tamano]\n",
    "        if accion == 'D':\n",
    "            if indice_vacio + self.tamano < self.tamano * self.tamano:\n",
    "                nuevos_estados[indice_vacio + self.tamano], nuevos_estados[indice_vacio] = nuevos_estados[indice_vacio], nuevos_estados[\n",
    "                    indice_vacio + self.tamano]\n",
    "        return Tablero(nuevos_estados)"
   ]
  },
  {
   "cell_type": "code",
   "execution_count": 3,
   "metadata": {},
   "outputs": [],
   "source": [
    "class Nodo:\n",
    "    def __init__(self, estado, padre, accion):\n",
    "        self.estado = estado\n",
    "        self.padre = padre\n",
    "        self.accion = accion\n",
    "#         self.costo = costo\n",
    "    def __repr__(self):\n",
    "        return str(self.estado.estados)\n",
    "\n",
    "    def __eq__(self, otro):\n",
    "        return self.estado.estados == otro.estado.estados\n",
    "\n",
    "    def __hash__(self):\n",
    "        return hash(self.estado)"
   ]
  },
  {
   "cell_type": "code",
   "execution_count": 4,
   "metadata": {},
   "outputs": [],
   "source": [
    "def get_hijos(padre_Nodo):\n",
    "    hijos = []\n",
    "    accions = ['L', 'R', 'U', 'D']\n",
    "    for accion in accions:\n",
    "        hijo_estado = padre_Nodo.estado.ejecutar_accion(accion)\n",
    "        hijo_Nodo = Nodo(hijo_estado, padre_Nodo, accion)\n",
    "        hijos.append(hijo_Nodo)\n",
    "    return hijos"
   ]
  },
  {
   "cell_type": "code",
   "execution_count": 5,
   "metadata": {},
   "outputs": [],
   "source": [
    "def gcalc(Nodo):\n",
    "    ''' calcula g(n): encuentra el costo del estado actual a partir del estado origen o inicial'''\n",
    "    contador = 0\n",
    "    while Nodo.padre is not None:\n",
    "        Nodo = Nodo.padre\n",
    "        contador += 1\n",
    "    return contador"
   ]
  },
  {
   "cell_type": "code",
   "execution_count": 6,
   "metadata": {},
   "outputs": [],
   "source": [
    "def hamming(estados):\n",
    "    ''' heuristicaa Hamming: cuenta el numero de posiciones erroneas en diferentes estados'''\n",
    "    numero_indices_no_ubicados = 0\n",
    "    objetivo_estados = ['1', '2', '3', '4', '5', '6', '7', '8', '9', '10', '11', '12', '13', '14', '15', '0']\n",
    "    for i in objetivo_estados:\n",
    "        if objetivo_estados.index(i) - estados.index(i) != 0 and i != 0:\n",
    "            numero_indices_no_ubicados += 1\n",
    "    return numero_indices_no_ubicados\n",
    "\n",
    "\n",
    "def manhattan_calculate(estados):\n",
    "    '''heuristica Manhattan: cuenta el numero de cuadros a partir de una ubicacion en relacion a su posicion final'''\n",
    "    contador = 0\n",
    "    for i in range(0, 15):\n",
    "        indice = estados.index(str(i + 1))  # por que el rango inicia en 0\n",
    "        contador += (abs((i / 4) - (indice / 4)) + abs((i % 4) - (indice % 4)))  # %4 es la columna y /4 es la fila\n",
    "    return contador"
   ]
  },
  {
   "cell_type": "code",
   "execution_count": 7,
   "metadata": {},
   "outputs": [],
   "source": [
    "def find_path(Nodo):\n",
    "    '''Devuelve la ruta inversa de un nodo origen'''\n",
    "    path = []\n",
    "    while (Nodo.padre is not None):\n",
    "        path.append(Nodo.accion)\n",
    "        Nodo = Nodo.padre\n",
    "    path.reverse()\n",
    "    return path"
   ]
  },
  {
   "cell_type": "code",
   "execution_count": 9,
   "metadata": {},
   "outputs": [],
   "source": [
    "def goal_test():\n",
    "    return ['1', '2', '3', '4', '5', '6', '7', '8', '9', '10', '11', '12', '13', '14', '15', '0']"
   ]
  },
  {
   "cell_type": "code",
   "execution_count": 10,
   "metadata": {},
   "outputs": [],
   "source": [
    "def astar(estado_inicial, estado_objetivo, heuristica):\n",
    "    '''A* Search Algorithm'''\n",
    "    start_time = time.time()\n",
    "    frontera = list()\n",
    "    contador = 0\n",
    "    visitado = dict()\n",
    "    frontera.append(estado_inicial)\n",
    "    visitado[estado_inicial.estado] = estado_inicial\n",
    "    while frontera:\n",
    "        minim = []\n",
    "        holder = []\n",
    "        for x in frontera:\n",
    "            if heuristica == 0:\n",
    "                minim.append(hamming(x.estado.estados) + gcalc(x))  # This is the F = h + g\n",
    "            elif heuristica == 1:\n",
    "                minim.append(manhattan_calculate(x.estado.estados) + gcalc(x))\n",
    "            holder.append(x)\n",
    "        m = min(minim)  # finds minimum F value\n",
    "        estado_inicial = holder[minim.index(m)]\n",
    "\n",
    "        if estado_inicial.estado.estados == estado_objetivo:  # solution found!\n",
    "            end_time = time.time()\n",
    "            print(\"\\n\\nSolucion:\")\n",
    "            print(\"Movimientos: \" + str(' '.join(find_path(estado_inicial))))\n",
    "            print(\"Numero de nodos expandidos: \" + str(contador))\n",
    "            print(\"Tiempo empleado: \" + str(round((end_time - start_time), 3)))\n",
    "            # print(\"Memory Used: \" + str(sys.gettamanoof(visitado) + sys.gettamanoof(frontera)) + \" kb\")\n",
    "            break\n",
    "\n",
    "        frontera.pop(frontera.index(estado_inicial))\n",
    "        for hijo in get_hijos(estado_inicial):\n",
    "            contador += 1\n",
    "            s = hijo.estado\n",
    "            if s not in visitado or gcalc(hijo) < gcalc(visitado[s]):\n",
    "                visitado[s] = hijo\n",
    "                frontera.append(hijo)\n"
   ]
  },
  {
   "cell_type": "code",
   "execution_count": 13,
   "metadata": {},
   "outputs": [
    {
     "name": "stdout",
     "output_type": "stream",
     "text": [
      "Elija la heuristica entre 'H' o 'M' (H es Hamming y M ws Manhattan): M\n",
      "\n",
      "\n",
      "Solucion:\n",
      "Movimientos: R U L L D R D R D\n",
      "Numero de nodos expandidos: 36\n",
      "Tiempo empleado: 0.001\n"
     ]
    }
   ],
   "source": [
    "def main():\n",
    "    ei = ['1', '3', '4', '8', '5', '2', '0', '6', '9', '10', '7', '11', '13', '14', '15', '12']\n",
    "    # ei = ['0', '15', '14', '4', '5', '6', '7', '8', '9', '10', '11', '12', '13', '1', '2', '3']\n",
    "\n",
    "    heuristica = input(\"Elija la heuristica entre 'H' o 'M' (H es Hamming y M ws Manhattan): \")\n",
    "    if heuristica == 'H':\n",
    "        heuristica = 0\n",
    "    elif heuristica == 'M':\n",
    "        heuristica = 1\n",
    "\n",
    "    max_depth = 10\n",
    "    root = Nodo(Tablero(ei), None, None)\n",
    "    astar(root, goal_test(), heuristica)\n",
    "    frontera = []\n",
    "    frontera.append(root)\n",
    "\n",
    "# Press the green button in the gutter to run the script.\n",
    "if __name__ == '__main__':\n",
    "    main()"
   ]
  },
  {
   "cell_type": "code",
   "execution_count": null,
   "metadata": {},
   "outputs": [],
   "source": []
  }
 ],
 "metadata": {
  "kernelspec": {
   "name": "python391jvsc74a57bd0c569cd2e17f62341e0f08a54f9a867c3c0d3a6f67454072d7de41a8b5dff8343",
   "display_name": "Python 3.9.1 64-bit"
  },
  "language_info": {
   "codemirror_mode": {
    "name": "ipython",
    "version": 3
   },
   "file_extension": ".py",
   "mimetype": "text/x-python",
   "name": "python",
   "nbconvert_exporter": "python",
   "pygments_lexer": "ipython3",
   "version": "3.9.1"
  },
  "metadata": {
   "interpreter": {
    "hash": "c569cd2e17f62341e0f08a54f9a867c3c0d3a6f67454072d7de41a8b5dff8343"
   }
  }
 },
 "nbformat": 4,
 "nbformat_minor": 4
}