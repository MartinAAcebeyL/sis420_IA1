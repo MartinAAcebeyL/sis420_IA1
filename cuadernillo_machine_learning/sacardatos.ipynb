{
 "metadata": {
  "language_info": {
   "codemirror_mode": {
    "name": "ipython",
    "version": 3
   },
   "file_extension": ".py",
   "mimetype": "text/x-python",
   "name": "python",
   "nbconvert_exporter": "python",
   "pygments_lexer": "ipython3",
   "version": "3.9.1"
  },
  "orig_nbformat": 2,
  "kernelspec": {
   "name": "python391jvsc74a57bd0c569cd2e17f62341e0f08a54f9a867c3c0d3a6f67454072d7de41a8b5dff8343",
   "display_name": "Python 3.9.1 64-bit"
  },
  "metadata": {
   "interpreter": {
    "hash": "c569cd2e17f62341e0f08a54f9a867c3c0d3a6f67454072d7de41a8b5dff8343"
   }
  }
 },
 "nbformat": 4,
 "nbformat_minor": 2,
 "cells": [
  {
   "cell_type": "code",
   "execution_count": null,
   "metadata": {},
   "outputs": [],
   "source": [
    "import os\n",
    "import numpy as np \n",
    "import pandas as pd \n",
    "\n",
    "from matplotlib import pyplot\n",
    "from mpl_toolkits.mplot3d import Axes3D"
   ]
  },
  {
   "source": [
    "## Extrayendo datos"
   ],
   "cell_type": "markdown",
   "metadata": {}
  },
  {
   "cell_type": "code",
   "execution_count": null,
   "metadata": {},
   "outputs": [],
   "source": [
    "# Cargar datos\n",
    "\n",
    "data = pd.read_csv('datasets/test.csv',delimiter=',')\n",
    "\n",
    "print(data['RERA'])\n",
    "dic = dict(data)\n",
    "\n",
    "new_data=pd.DataFrame(dic,columns=['UNDER_CONSTRUCTION','RERA', 'BHK_NO.', 'SQUARE_FT','ADDRESS'])\n",
    "new_data = new_data[:100]\n",
    "\n",
    "new_data = new_data.rename(columns={'UNDER_CONSTRUCTION':'En Contruccion'})\n",
    "new_data = new_data.rename(columns={'RERA':'DDRR'})\n",
    "new_data = new_data.rename(columns={'BHK_NO.':'# Cuartos'})\n",
    "new_data = new_data.rename(columns={'ADDRESS':'Calle'})\n",
    "new_data = new_data.rename(columns={'SQUARE_FT':'Area'})\n",
    "#print(new_data)"
   ]
  },
  {
   "cell_type": "code",
   "execution_count": null,
   "metadata": {},
   "outputs": [],
   "source": [
    "dic = dict(new_data)\n",
    "print(dic)"
   ]
  },
  {
   "cell_type": "code",
   "execution_count": null,
   "metadata": {},
   "outputs": [],
   "source": [
    "data = pd.read_csv('datasets/all_casa.csv',delimiter=',')\n",
    "data[:5]"
   ]
  },
  {
   "cell_type": "code",
   "execution_count": null,
   "metadata": {},
   "outputs": [],
   "source": [
    "data = pd.read_csv('datasets/all_casa.csv',delimiter=',')\n",
    "dic  = dict(data)\n",
    "#print(data)\n",
    "\n",
    "data = pd.DataFrame(dic, columns=['BEDROOMS', 'BATHROOMS', 'GARAGE', 'LAND_AREA', 'FLOOR_AREA', 'BUILD_YEAR', 'CBD_DIST', 'NEAREST_SCH_DIST','LATITUDE', 'LONGITUDE','PRICE','ADDRESS', 'DATE_SOLD'])\n",
    "data = data[:120]\n",
    "\n",
    "data = data.rename(columns={'ADDRESS':'Direccion'})\n",
    "data = data.rename(columns={'PRICE':'Precio'})\n",
    "data = data.rename(columns={'BEDROOMS':'Cuartos'})\n",
    "data = data.rename(columns={'BATHROOMS':'Baños'})\n",
    "data = data.rename(columns={'LAND_AREA':'Area'})\n",
    "\n",
    "data = data.rename(columns={'FLOOR_AREA':'Construido'})\n",
    "data = data.rename(columns={'BUILD_YEAR':'Año'})\n",
    "data = data.rename(columns={'CBD_DIST':'Dis_Cento'})\n",
    "data = data.rename(columns={'DATE_SOLD':'Ult_venta'})\n",
    "data = data.rename(columns={'NEAREST_SCH_DIST':'Dis_Escuela'})\n",
    "data = pd.DataFrame(data)\n",
    "\n",
    "#print(data[:5])\n",
    "\n",
    "data.reset_index().to_csv('Data_Casas.csv', header=True, index=False)"
   ]
  },
  {
   "cell_type": "code",
   "execution_count": null,
   "metadata": {},
   "outputs": [],
   "source": [
    "data = pd.read_csv('datasets/Data_Casas.csv')\n",
    "\n",
    "d = pd.DataFrame(data)\n",
    "print(d)"
   ]
  },
  {
   "cell_type": "code",
   "execution_count": null,
   "metadata": {},
   "outputs": [],
   "source": [
    "data = pd.read_csv('framingham.csv',delimiter=',')\n",
    "print(data.head())"
   ]
  },
  {
   "cell_type": "code",
   "execution_count": 10,
   "metadata": {},
   "outputs": [],
   "source": [
    "#https://www.kaggle.com/dileep070/heart-disease-prediction-using-logistic-regression\n",
    "\n",
    "data = pd.read_csv('framingham.csv',delimiter=',')\n",
    "data = pd.DataFrame(data)\n",
    "\n",
    "data = data[:120]\n",
    "\n",
    "data = data.rename(columns={'male':'sexo'})\n",
    "data = data.rename(columns={'age':'edad'})\n",
    "data = data.rename(columns={'currentSmoker':'fumador'})\n",
    "data = data.rename(columns={'cigsPerDay':'cigarrillos_x_dia'})\n",
    "data = data.rename(columns={'BPMeds':'medicamento_arterial'})\n",
    "data = data.rename(columns={'prevalentStroke':'accidente_cerebrovascular'})\n",
    "data = data.rename(columns={'prevalentHyp':'hipertenso'})\n",
    "data = data.rename(columns={'totChol':'nivel_colesterol'})\n",
    "data = data.rename(columns={'sysBP':'presión_arterial_sistólica'})\n",
    "data = data.rename(columns={'diaBP':'presión_arterial_diastólica'})\n",
    "data = data.rename(columns={'BMI':'masa_corporal'})\n",
    "data = data.rename(columns={'heartRate':'frecuencia_cardíaca'})\n",
    "data = data.rename(columns={'TenYearCHD':'enfermedad_cardiacas'})\n",
    "\n",
    "data = data.fillna(0)\n",
    "\n",
    "data.reset_index().to_csv('endeCardi.csv', header=True,index=False)"
   ]
  },
  {
   "cell_type": "code",
   "execution_count": null,
   "metadata": {},
   "outputs": [],
   "source": []
  }
 ]
}