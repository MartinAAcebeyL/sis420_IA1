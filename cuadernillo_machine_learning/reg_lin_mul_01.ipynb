{
 "cells": [
  {
   "cell_type": "markdown",
   "metadata": {},
   "source": [
    "# Ejercicio de programación Regresión Lineal Multiple"
   ]
  },
  {
   "cell_type": "code",
   "execution_count": 35,
   "metadata": {},
   "outputs": [],
   "source": [
    "# utilizado para manejos de directorios y rutas\n",
    "import os\n",
    "\n",
    "# Computacion vectorial y cientifica para python\n",
    "import numpy as np\n",
    "import pandas as pd\n",
    "# Librerias para graficación (trazado de gráficos)\n",
    "from matplotlib import pyplot\n",
    "from mpl_toolkits.mplot3d import Axes3D  # Necesario para graficar superficies 3D\n",
    "\n",
    "# llama a matplotlib a embeber graficas dentro de los cuadernillos\n",
    "%matplotlib inline"
   ]
  },
  {
   "cell_type": "markdown",
   "metadata": {},
   "source": [
    "## 2 Regresión lineal con multiples variables\n",
    "\n",
    "Se implementa la regresion lineal multivariable para predecir el precio de las casas. El archivo `Datasets/ex1data2.txt` contiene un conjunto de entrenamiento de precios de casas en Portland, Oregon. La primera columna es el tamaño de la casa en metros cuadrados, la segunda columna es el numero de cuartos, y la tercera columna es el precio de la casa. \n",
    "\n",
    "<a id=\"section4\"></a>\n",
    "### 2.1 Normalización de caracteristicas\n",
    "\n",
    "Al visualizar los datos se puede observar que las caracteristicas tienen diferentes magnitudes, por lo cual se debe transformar cada valor en una escala de valores similares, esto con el fin de que el descenso por el gradiente pueda converger mas rapidamente."
   ]
  },
  {
   "cell_type": "code",
   "execution_count": null,
   "metadata": {},
   "outputs": [],
   "source": []
  },
  {
   "cell_type": "code",
   "execution_count": 36,
   "metadata": {},
   "outputs": [],
   "source": [
    "data = pd.read_csv('datasets/Data_Casas.csv',delimiter=',')\n",
    "data = pd.DataFrame(data)\n",
    "data = data.drop(columns = [\"index\",\"Direccion\",\"Ult_venta\"])\n",
    "\n",
    "\n",
    "data.Cuartos = data.Cuartos.fillna(0.0)\n",
    "data.Cuartos = data.Cuartos.astype(int)\n",
    "\n",
    "data.Baños = data.Baños.fillna(0.0)\n",
    "data.Baños = data.Baños.astype(int)\n",
    "\n",
    "data.GARAGE = data.GARAGE.fillna(0.0)\n",
    "data.GARAGE = data.GARAGE.astype(int)\n",
    "\n",
    "data.Area = data.Area.fillna(0.0)\n",
    "data.Area = data.Area.astype(int)\n",
    "\n",
    "data.Construido = data.Construido.fillna(0.0)\n",
    "data.Construido = data.Construido.astype(int)\n",
    "\n",
    "data.Año = data.Año.fillna(0.0)\n",
    "data.Año = data.Año.astype(int)\n",
    "\n",
    "data.Dis_Cento = data.Dis_Cento.fillna(0.0)\n",
    "data.Dis_Cento = data.Dis_Cento.astype(int)\n",
    "\n",
    "data.Dis_Escuela = data.Dis_Escuela.fillna(0.0)\n",
    "data.Dis_Escuela = data.Dis_Escuela.astype(int)\n",
    "\n",
    "data.Precio = data.Precio.fillna(0.0)\n",
    "data.Precio = data.Precio.astype(int)\n",
    "#print(data[:5])\n",
    "numpy_array = data.to_numpy()\n",
    "#print(numpy_array[1,:])"
   ]
  },
  {
   "cell_type": "code",
   "execution_count": 37,
   "metadata": {},
   "outputs": [
    {
     "output_type": "stream",
     "name": "stdout",
     "text": [
      "  X[:,0]    X[:,1]      X[:,2]      X[:,3]      X[:,4]      X[:,5]      X[:,6]      X[:,7]           y\n--------------------------------------------------------------------------------\n       4       2       2     600     160    2003   18300       0    565000\n       3       2       2     351     139    2013   26900       5    365000\n       3       1       1     719      86    1979   22600       1    287000\n       2       1       2     651      59    1953   17900       1    255000\n       4       1       2     466     131    1998   11200       1    325000\n       4       2       1     759     118    1991   27300       1    409000\n       3       2       2     386     132    2014   28200       2    400000\n       4       2       2     468     158    2013   41700       0    370000\n       4       2       3     875     168    1983   12100       1    565000\n       3       2       8     552     126    1999    5900       0    685000\n"
     ]
    }
   ],
   "source": [
    "# Cargar datos\n",
    "#data = np.loadtxt(os.path.join('Datasets', 'ex1data2.txt'), delimiter=',')\n",
    "x = numpy_array[:, :8]\n",
    "y = numpy_array[:, 8]\n",
    "m = y.size\n",
    "\n",
    "#9\n",
    "# imprimir algunos puntos de datos\n",
    "print('{:>8s}{:>10s}{:>12s}{:>12s}{:>12s}{:>12s}{:>12s}{:>12s}{:>12s}'.format('X[:,0]', 'X[:,1]','X[:,2]', 'X[:,3]','X[:,4]', 'X[:,5]','X[:,6]', 'X[:,7]', 'y'))\n",
    "print('-'*80)\n",
    "\n",
    "for i in range(10):\n",
    "    print('{:8.0f}{:8.0f}{:8.0f}{:8.0f}{:8.0f}{:8.0f}{:8.0f}{:8.0f}{:10.0f}'.format(x[i, 0], x[i, 1],x[i, 2], x[i, 3],    x[i, 4], x[i, 5],x[i, 6], x[i, 7], y[i]))"
   ]
  },
  {
   "cell_type": "markdown",
   "metadata": {},
   "source": [
    "La desviación estándar es una forma de medir cuánta variación hay en el rango de valores de una característica en particular (la mayoría de los puntos caeran en un rango de ± 2 en relación a la desviaciones estándar de la media); esta es una alternativa a tomar el rango de valores (max-min). En `numpy`, se puede usar la función `std` para calcular la desviacion estandar. \n",
    "\n",
    "Por ejemplo, la caracteristica`X[:, 0]` contiene todos los valores de $x_1$ (tamaño de las casas) en el conjunto de entrenamiento, entonces `np.std(X[:, 0])` calcula la desviacion estandar de los tamaños de las casas.\n",
    "En el momento en que se llama a la función `featureNormalize`, la columna adicional de unos correspondiente a $ x_0 = 1 $ aún no se ha agregado a $ X $. \n",
    "\n",
    "<div class=\"alert alert-block alert-warning\">\n",
    "**Notas para la implementación:** Cuando se normalize una caracteristica, es importante almacenar los valores usados para la normalización - el valor de la media y el valor de la desviación estandar usado para los calculos. Despues de aprender los parametros del modelo, se deseara predecir los precios de casas que no se han visto antes. Dado un nuevo valor de x (area del living room y el numero de dormitorios), primero se debe normalizar x usando la media y la desviacion estandar que se empleo anteriormente en el conjunto de entrenamiento para entrenar el modelo.\n",
    "</div>\n",
    "<a id=\"featureNormalize\"></a>"
   ]
  },
  {
   "cell_type": "code",
   "execution_count": 38,
   "metadata": {},
   "outputs": [],
   "source": [
    "def  featureNormalize(x):\n",
    "    x_norm = x.copy()\n",
    "    mu = np.zeros(x.shape[1])\n",
    "    sigma = np.zeros(x.shape[1])\n",
    "    mu = np.mean(x, axis = 0)\n",
    "    sigma = np.std(x, axis = 0)\n",
    "    x_norm = (x - mu) / sigma\n",
    "    return x_norm, mu, sigma"
   ]
  },
  {
   "cell_type": "code",
   "execution_count": 39,
   "metadata": {
    "tags": []
   },
   "outputs": [
    {
     "output_type": "stream",
     "name": "stdout",
     "text": [
      "Media calculada: [3.54166667e+00 1.83333333e+00 2.26666667e+00 7.13583333e+02\n 1.73725000e+02 1.89294167e+03 2.02616667e+04 1.35000000e+00]\nDesviación estandar calculada: [6.69525122e-01 4.88762610e-01 1.18133634e+00 5.07758893e+02\n 6.18896818e+01 4.34625151e+02 1.10506952e+04 2.00686322e+00]\nxnorm\n [[ 6.84564803e-01  3.40997170e-01 -2.25733059e-01 -2.23695409e-01\n  -2.21765561e-01  2.53225873e-01 -1.77515227e-01 -6.72691583e-01]\n [-8.09031131e-01  3.40997170e-01 -2.25733059e-01 -7.14085639e-01\n  -5.61078988e-01  2.76234206e-01  6.00716356e-01  1.81875873e+00]\n [-8.09031131e-01 -1.70498585e+00 -1.07223203e+00  1.06677928e-02\n  -1.41744145e+00  1.98005875e-01  2.11600564e-01 -1.74401522e-01]\n [-2.30262707e+00 -1.70498585e+00 -2.25733059e-01 -1.23254037e-01\n  -1.85370157e+00  1.38184211e-01 -2.13712045e-01 -1.74401522e-01]\n [ 6.84564803e-01 -1.70498585e+00 -2.25733059e-01 -4.87600192e-01\n  -6.90341246e-01  2.41721707e-01 -8.20008743e-01 -1.74401522e-01]\n [ 6.84564803e-01  3.40997170e-01 -1.07223203e+00  8.94453398e-02\n  -9.00392415e-01  2.25615874e-01  6.36913173e-01 -1.74401522e-01]\n [-8.09031131e-01  3.40997170e-01 -2.25733059e-01 -6.45155285e-01\n  -6.74183463e-01  2.78535039e-01  7.18356013e-01  3.23888540e-01]\n [ 6.84564803e-01  3.40997170e-01 -2.25733059e-01 -4.83661314e-01\n  -2.54081126e-01  2.76234206e-01  1.93999861e+00 -6.72691583e-01]\n [ 6.84564803e-01  3.40997170e-01  6.20765913e-01  3.17900226e-01\n  -9.25033033e-02  2.07209208e-01 -7.38565903e-01 -1.74401522e-01]\n [-8.09031131e-01  3.40997170e-01  4.85326077e+00 -3.18228466e-01\n  -7.71130157e-01  2.44022540e-01 -1.29961658e+00 -6.72691583e-01]\n [ 6.84564803e-01  3.40997170e-01  3.16026283e+00  3.59307674e+00\n   1.08701480e+00  1.93404209e-01  2.38748177e-01 -6.72691583e-01]\n [-8.09031131e-01  3.40997170e-01 -2.25733059e-01 -6.21522021e-01\n  -2.54081126e-01  2.53225873e-01  1.45134157e+00 -6.72691583e-01]\n [-8.09031131e-01  3.40997170e-01 -2.25733059e-01 -9.26785016e-01\n  -1.28817919e+00  2.64730040e-01 -7.92861130e-01 -6.72691583e-01]\n [ 6.84564803e-01  3.40997170e-01  1.46726488e+00 -1.88737873e-02\n   1.18396149e+00  2.50925040e-01  2.56846586e-01  3.23888540e-01]\n [ 6.84564803e-01  3.40997170e-01 -2.25733059e-01 -1.96123268e-01\n   1.98336777e-01  2.55526707e-01 -6.48073859e-01  8.22178602e-01]\n [-8.09031131e-01  3.40997170e-01  6.20765913e-01 -1.49349099e-02\n   3.59914599e-01  2.11810875e-01 -7.02369086e-01 -1.74401522e-01]\n [ 6.84564803e-01  3.40997170e-01 -2.25733059e-01 -9.96207729e-02\n  -3.18712254e-01  2.32518374e-01  1.48753839e+00  6.30336928e+00]\n [ 6.84564803e-01  3.40997170e-01 -2.25733059e-01 -2.86717447e-01\n   8.28490284e-01  2.53225873e-01 -4.48991361e-01  3.23888540e-01]\n [-2.30262707e+00 -1.70498585e+00  6.20765913e-01  7.36898304e-02\n  -1.35281032e+00  1.51989210e-01 -1.95613636e-01 -1.74401522e-01]\n [-8.09031131e-01  3.40997170e-01  6.20765913e-01  1.40650745e-01\n  -1.08661085e-01  1.93404209e-01  4.64978289e-01 -1.74401522e-01]\n [ 6.84564803e-01 -1.70498585e+00 -1.07223203e+00  1.34742429e-01\n  -1.01349689e+00  2.02607542e-01  2.74944995e-01  1.32046866e+00]\n [ 6.84564803e-01  3.40997170e-01 -2.25733059e-01 -5.19111210e-01\n  -1.17143921e-02  2.46323374e-01  3.96656795e-02 -6.72691583e-01]\n [-8.09031131e-01 -1.70498585e+00 -1.07223203e+00 -5.76224932e-01\n  -1.30433697e+00  1.81900042e-01 -7.65713517e-01 -1.74401522e-01]\n [-8.09031131e-01  3.40997170e-01 -2.25733059e-01 -6.41216408e-01\n  -2.21765561e-01  2.62429206e-01  4.28781471e-01  8.22178602e-01]\n [-8.09031131e-01 -1.70498585e+00 -1.07223203e+00 -3.22167343e-01\n  -8.51919068e-01  6.22567132e-02 -5.12335792e-01 -6.72691583e-01]\n [ 2.17816074e+00  3.40997170e-01 -2.25733059e-01  2.78511452e-01\n   2.12111286e+00  2.02607542e-01 -8.56205561e-01 -1.74401522e-01]\n [ 6.84564803e-01  3.40997170e-01 -2.25733059e-01 -2.23695409e-01\n   1.95953504e+00  2.60128373e-01  3.09829678e+00  3.23888540e-01]\n [-8.09031131e-01 -1.70498585e+00  6.20765913e-01 -5.15172333e-01\n  -1.38512588e+00 -4.35534314e+00 -6.48073859e-01 -1.74401522e-01]\n [ 6.84564803e-01  3.40997170e-01 -2.25733059e-01 -5.01386262e-01\n   1.23243484e+00  2.73933373e-01 -5.57581814e-01  8.22178602e-01]\n [-8.09031131e-01 -1.70498585e+00 -2.25733059e-01 -5.08771657e-03\n  -1.20739028e+00  2.11810875e-01  6.55011582e-01 -6.72691583e-01]\n [-8.09031131e-01 -1.70498585e+00 -1.07223203e+00 -2.82778570e-01\n  -1.06197024e+00  2.37120041e-01 -4.30892952e-01 -1.74401522e-01]\n [ 6.84564803e-01  3.40997170e-01 -1.07223203e+00  1.85947835e-01\n  -3.02554472e-01  2.07209208e-01 -3.22302499e-01 -1.74401522e-01]\n [ 6.84564803e-01  3.40997170e-01 -2.25733059e-01 -3.22167343e-01\n  -7.54972375e-01  2.44022540e-01  2.40150804e+00  3.23888540e-01]\n [ 6.84564803e-01  2.38698019e+00  3.16026283e+00  2.72061541e+00\n   1.29706597e+00 -4.35534314e+00  6.36913173e-01  2.31704879e+00]\n [ 6.84564803e-01  3.40997170e-01  1.46726488e+00  2.58866302e+00\n   7.80016937e-01  2.18713374e-01  3.38289426e-01 -1.74401522e-01]\n [ 6.84564803e-01  3.40997170e-01 -2.25733059e-01 -8.18958248e-02\n   1.98336777e-01  2.50925040e-01  2.72727940e+00  3.23888540e-01]\n [-8.09031131e-01 -1.70498585e+00 -2.25733059e-01  1.64284009e-01\n   5.29167368e-02  1.86501709e-01  5.77640884e-02  8.22178602e-01]\n [ 6.84564803e-01  3.40997170e-01 -2.25733059e-01 -4.60028050e-01\n  -6.01877388e-02  2.41721707e-01 -8.56205561e-01 -1.74401522e-01]\n [ 6.84564803e-01  3.40997170e-01 -2.25733059e-01 -4.81691876e-01\n  -3.51027819e-01  2.64730040e-01 -1.14170796e-01 -1.74401522e-01]\n [-8.09031131e-01  2.38698019e+00 -2.25733059e-01 -7.08177323e-01\n   8.60805848e-01  2.46323374e-01 -6.66172268e-01  3.23888540e-01]\n [-8.09031131e-01  3.40997170e-01  1.46726488e+00  1.32772991e-01\n  -2.86396690e-01  2.21014208e-01  1.31560351e+00 -6.72691583e-01]\n [-8.09031131e-01  3.40997170e-01 -2.25733059e-01 -1.84306636e-01\n  -4.96447859e-01  2.50925040e-01 -4.94237383e-01  3.23888540e-01]\n [ 2.17816074e+00  3.40997170e-01 -2.25733059e-01 -2.39450919e-01\n  -9.25033033e-02  2.37120041e-01 -4.17771606e-02  8.22178602e-01]\n [-8.09031131e-01 -1.70498585e+00 -2.25733059e-01  5.22721848e-01\n  -8.35761286e-01  1.95705042e-01 -8.10959539e-01 -1.74401522e-01]\n [-8.09031131e-01  3.40997170e-01 -2.25733059e-01 -6.23491460e-01\n  -7.06499028e-01  2.60128373e-01  1.60517805e+00 -1.74401522e-01]\n [ 6.84564803e-01  3.40997170e-01 -2.25733059e-01 -1.42948424e-01\n   7.63859155e-01  2.57827540e-01  6.00716356e-01 -1.74401522e-01]\n [-8.09031131e-01  3.40997170e-01 -2.25733059e-01 -6.61403155e-02\n  -1.73292214e-01  2.25615874e-01 -3.67548521e-01 -1.74401522e-01]\n [ 6.84564803e-01  3.40997170e-01 -2.25733059e-01 -4.30486470e-01\n  -4.40299566e-02  2.71632539e-01  2.28386838e+00  3.23888540e-01]\n [-8.09031131e-01 -1.70498585e+00  3.16026283e+00  1.18986920e-01\n  -6.74183463e-01  1.35883377e-01 -1.42630544e+00 -1.74401522e-01]\n [ 6.84564803e-01  3.40997170e-01 -2.25733059e-01  2.05642221e-01\n   1.18396149e+00  2.32518374e-01 -8.47156357e-01 -6.72691583e-01]\n [-8.09031131e-01  3.40997170e-01 -2.25733059e-01  1.20956359e-01\n  -3.67185601e-01  1.54290043e-01 -4.30892952e-01 -6.72691583e-01]\n [-8.09031131e-01 -1.70498585e+00 -1.07223203e+00  4.00616650e-01\n  -8.68076850e-01  1.51989210e-01 -1.51679749e+00 -6.72691583e-01]\n [ 6.84564803e-01  3.40997170e-01 -2.25733059e-01 -5.25019526e-01\n   2.12111286e+00  2.80835872e-01 -1.50367614e-01 -1.74401522e-01]\n [-8.09031131e-01  2.38698019e+00 -2.25733059e-01 -7.00299568e-01\n  -3.18712254e-01  2.48624207e-01 -2.86105681e-01 -1.74401522e-01]\n [-8.09031131e-01 -1.70498585e+00 -1.07223203e+00 -1.86276075e-01\n  -3.83343383e-01  1.19777545e-01 -1.03718965e+00 -6.72691583e-01]\n [ 2.17816074e+00  3.40997170e-01 -2.25733059e-01  2.37153240e-01\n   1.16780371e+00  2.55526707e-01  5.55470333e-01  8.22178602e-01]\n [ 6.84564803e-01  3.40997170e-01  6.20765913e-01 -3.00503518e-01\n  -1.17507471e+00  2.30217541e-01 -7.79739784e-02  3.23888540e-01]\n [-8.09031131e-01  3.40997170e-01  6.20765913e-01 -6.72727427e-01\n   6.34596897e-01  2.64730040e-01 -6.20926246e-01 -1.74401522e-01]\n [-8.09031131e-01 -1.70498585e+00 -1.91873100e+00 -5.93949880e-01\n  -3.83343383e-01  2.80835872e-01  5.37371924e-01 -1.74401522e-01]\n [ 6.84564803e-01  3.40997170e-01 -2.25733059e-01 -3.39892291e-01\n   2.30652341e-01  2.55526707e-01 -3.85646930e-01 -1.74401522e-01]\n [ 6.84564803e-01  3.40997170e-01 -2.25733059e-01 -3.33983975e-01\n   1.16780371e+00  2.69331706e-01 -1.04623885e+00 -6.72691583e-01]\n [-8.09031131e-01  3.40997170e-01 -2.25733059e-01 -8.24374205e-01\n  -1.02965467e+00  1.31281711e-01 -1.10958329e+00 -1.74401522e-01]\n [-8.09031131e-01  3.40997170e-01 -2.25733059e-01 -2.67023060e-01\n   3.67589546e-02  2.34819207e-01 -1.25437056e+00 -6.72691583e-01]\n [ 6.84564803e-01  3.40997170e-01 -1.07223203e+00  2.79003812e-03\n  -6.01877388e-02 -4.35534314e+00 -5.75680223e-01 -1.74401522e-01]\n [ 6.84564803e-01 -1.70498585e+00  1.46726488e+00 -6.56971918e-01\n  -9.65023544e-01  2.41721707e-01 -9.73845219e-01 -6.72691583e-01]\n [-8.09031131e-01  3.40997170e-01 -2.25733059e-01 -9.46479403e-01\n  -1.01349689e+00  2.78535039e-01  1.05317658e+00 -6.72691583e-01]\n [-2.30262707e+00 -1.70498585e+00 -1.91873100e+00  3.67185429e+00\n   1.01390083e-01  1.93404209e-01 -1.86564432e-01 -1.74401522e-01]\n [-8.09031131e-01  3.40997170e-01 -2.25733059e-01 -7.16055078e-01\n  -2.86396690e-01  2.83136706e-01  1.35180033e+00  6.30336928e+00]\n [-2.30262707e+00 -1.70498585e+00 -2.25733059e-01  2.25336608e-01\n  -9.16550197e-01  1.65794210e-01 -2.22761250e-01  3.23888540e-01]\n [-8.09031131e-01  3.40997170e-01 -2.25733059e-01 -2.17787093e-01\n  -7.38814592e-01  2.27916707e-01  1.28845589e+00 -6.72691583e-01]\n [ 6.84564803e-01  3.40997170e-01 -2.25733059e-01 -1.86276075e-01\n   1.01390083e-01  2.64730040e-01  3.47338631e-01  3.23888540e-01]\n [ 6.84564803e-01 -1.70498585e+00  2.31376386e+00  1.74131203e-01\n   1.49095936e+00  2.73933373e-01 -7.47615108e-01 -1.74401522e-01]\n [ 6.84564803e-01  3.40997170e-01 -2.25733059e-01  2.41535241e+00\n   7.96174719e-01  2.04908375e-01 -1.41318410e-01  3.23888540e-01]\n [ 6.84564803e-01  3.40997170e-01 -2.25733059e-01 -3.63525555e-01\n   3.67589546e-02  2.57827540e-01 -4.39942156e-01 -6.72691583e-01]\n [-8.09031131e-01  3.40997170e-01 -2.25733059e-01 -4.20639277e-01\n   2.23421734e+00  2.53225873e-01 -1.50367614e-01 -1.74401522e-01]\n [-8.09031131e-01  3.40997170e-01  1.46726488e+00  1.13078604e-01\n   4.24545728e-01  2.11810875e-01 -6.11877041e-01  3.23888540e-01]\n [-8.09031131e-01 -1.70498585e+00 -2.25733059e-01 -5.03848061e-02\n  -1.35281032e+00  1.49688377e-01 -1.21817374e+00 -1.74401522e-01]\n [ 6.84564803e-01  3.40997170e-01  1.46726488e+00  5.87713324e-01\n   1.24859262e+00  2.57827540e-01 -8.83353175e-01 -1.74401522e-01]\n [ 6.84564803e-01  2.38698019e+00 -2.25733059e-01 -2.43389796e-01\n   1.41017044e+00  2.57827540e-01 -1.06433726e+00 -6.72691583e-01]\n [ 6.84564803e-01  2.38698019e+00 -2.25733059e-01  6.91551978e+00\n   1.00622589e+00  2.53225873e-01  7.54552831e-01  8.22178602e-01]\n [ 6.84564803e-01  3.40997170e-01  1.46726488e+00 -5.26988965e-01\n  -4.31816730e-01  2.64730040e-01  2.20649769e-01  3.23888540e-01]\n [ 6.84564803e-01  3.40997170e-01 -1.91873100e+00 -3.57617239e-01\n   1.82178995e-01 -4.35534314e+00 -7.20467495e-01 -1.74401522e-01]\n [ 6.84564803e-01  3.40997170e-01 -2.25733059e-01 -5.11233456e-01\n   1.44248601e+00 -4.35534314e+00 -5.03286588e-01 -6.72691583e-01]\n [ 2.17816074e+00  3.40997170e-01 -2.25733059e-01 -1.40978985e-01\n  -3.34870037e-01  2.32518374e-01  1.33370192e+00 -1.74401522e-01]\n [-8.09031131e-01  3.40997170e-01 -2.25733059e-01 -5.21080649e-01\n   8.52323012e-02  2.48624207e-01 -1.21817374e+00 -6.72691583e-01]\n [ 6.84564803e-01  3.40997170e-01 -2.25733059e-01  2.64233022e-02\n   8.52323012e-02  2.11810875e-01 -8.10959539e-01 -6.72691583e-01]\n [ 6.84564803e-01  3.40997170e-01 -2.25733059e-01 -5.54561106e-01\n  -3.02554472e-01  2.80835872e-01  2.12098270e+00  1.81875873e+00]\n [ 6.84564803e-01  3.40997170e-01  6.20765913e-01 -3.35953414e-01\n  -1.01349689e+00  2.32518374e-01 -8.38107152e-01 -1.74401522e-01]\n [-8.09031131e-01 -1.70498585e+00 -2.25733059e-01  1.82008957e-01\n  -8.84234632e-01  1.77298376e-01  1.05317658e+00 -1.74401522e-01]\n [-8.09031131e-01 -1.70498585e+00 -2.25733059e-01  4.71516442e-01\n  -5.44921206e-01  1.86501709e-01 -6.29975450e-01 -6.72691583e-01]\n [ 6.84564803e-01  3.40997170e-01  1.46726488e+00 -3.26598580e-02\n  -2.21765561e-01  2.16412541e-01  4.87148840e-02 -1.74401522e-01]\n [-8.09031131e-01  3.40997170e-01 -2.25733059e-01 -6.13644267e-01\n  -6.25710117e-01 -4.35534314e+00 -2.77056476e-01 -1.74401522e-01]\n [ 6.84564803e-01  3.40997170e-01 -2.25733059e-01  5.87713324e-01\n   1.01390083e-01  2.32518374e-01 -3.31351703e-01  8.22178602e-01]\n [-8.09031131e-01  3.40997170e-01 -2.25733059e-01 -9.76020983e-01\n  -7.06499028e-01  2.60128373e-01 -8.47156357e-01 -6.72691583e-01]\n [ 6.84564803e-01  3.40997170e-01 -2.25733059e-01 -3.22167343e-01\n   1.82178995e-01  2.60128373e-01  3.10734599e+00  3.23888540e-01]\n [-8.09031131e-01  3.40997170e-01 -2.25733059e-01 -8.36190837e-01\n  -8.35761286e-01  2.64730040e-01 -4.67089770e-01 -6.72691583e-01]\n [ 2.17816074e+00  3.40997170e-01 -2.25733059e-01  1.03231410e-01\n   1.87874613e+00  2.23315041e-01 -4.58040565e-01 -1.74401522e-01]\n [ 6.84564803e-01  3.40997170e-01  2.31376386e+00  6.86185258e-01\n   5.29167368e-02  2.18713374e-01 -2.22761250e-01 -1.74401522e-01]\n [-8.09031131e-01  3.40997170e-01 -2.25733059e-01 -6.82574620e-01\n  -2.21765561e-01  2.34819207e-01 -1.20912453e+00 -6.72691583e-01]\n [-8.09031131e-01 -1.70498585e+00  6.20765913e-01 -3.06904193e-02\n  -1.02965467e+00  1.88802542e-01 -5.75680223e-01 -6.72691583e-01]\n [-8.09031131e-01 -1.70498585e+00 -1.07223203e+00  1.34742429e-01\n  -1.01349689e+00  1.95705042e-01 -7.11418290e-01 -1.74401522e-01]\n [-2.30262707e+00  3.40997170e-01 -1.07223203e+00 -1.54765056e-01\n   4.40703510e-01  1.31281711e-01 -1.41725624e+00 -6.72691583e-01]\n [-8.09031131e-01  3.40997170e-01 -2.25733059e-01 -3.12320150e-01\n  -2.37923343e-01  2.55526707e-01  1.48753839e+00 -6.72691583e-01]\n [ 6.84564803e-01  3.40997170e-01 -1.07223203e+00  8.74759011e-02\n  -7.87287939e-01  2.09510041e-01  1.66354542e-01 -6.72691583e-01]\n [ 6.84564803e-01  3.40997170e-01  6.20765913e-01 -2.67023060e-01\n   8.93121413e-01  2.73933373e-01 -6.89247739e-02 -6.72691583e-01]\n [ 6.84564803e-01  3.40997170e-01 -2.25733059e-01 -4.00944890e-01\n   6.99228026e-01  2.62429206e-01  4.46879880e-01  8.22178602e-01]\n [-8.09031131e-01  3.40997170e-01 -2.25733059e-01 -1.88245513e-01\n  -6.41867899e-01  2.57827540e-01 -3.58499316e-01 -1.74401522e-01]\n [ 2.17816074e+00  2.38698019e+00 -2.25733059e-01  3.88800018e-01\n   2.18574399e+00  2.34819207e-01  5.28322720e-01 -1.74401522e-01]\n [ 6.84564803e-01  3.40997170e-01 -2.25733059e-01  6.58120757e-02\n   5.86123550e-01  2.25615874e-01  2.01239225e+00 -1.74401522e-01]\n [ 6.84564803e-01  3.40997170e-01  6.20765913e-01  2.27552227e+00\n  -1.08661085e-01  2.11810875e-01  7.99798854e-01 -1.74401522e-01]\n [ 6.84564803e-01  3.40997170e-01 -2.25733059e-01  1.76100641e-01\n  -1.17143921e-02  2.18713374e-01 -6.29975450e-01 -1.74401522e-01]\n [ 6.84564803e-01  3.40997170e-01 -2.25733059e-01 -3.32014536e-01\n  -2.21765561e-01  2.30217541e-01 -8.56205561e-01 -6.72691583e-01]\n [-8.09031131e-01  3.40997170e-01 -1.07223203e+00 -3.93067135e-01\n  -6.90341246e-01  2.46323374e-01 -5.58034275e-03  3.23888540e-01]\n [ 6.84564803e-01  3.40997170e-01 -2.25733059e-01 -6.15613705e-01\n   1.98336777e-01  2.57827540e-01  4.37830675e-01  8.22178602e-01]\n [ 6.84564803e-01  3.40997170e-01 -2.25733059e-01 -3.67464433e-01\n   5.69965768e-01  2.48624207e-01 -1.16387851e+00 -6.72691583e-01]\n [-2.30262707e+00 -1.70498585e+00 -2.25733059e-01  7.61023927e-01\n   5.22340705e+00  1.49688377e-01 -9.91943628e-01 -1.74401522e-01]\n [ 6.84564803e-01  3.40997170e-01  1.46726488e+00 -2.63084183e-01\n  -5.44921206e-01  2.60128373e-01  2.04858907e+00 -1.74401522e-01]\n [ 6.84564803e-01  3.40997170e-01 -2.25733059e-01 -3.85681740e-02\n   1.16780371e+00  2.69331706e-01  1.11652101e+00 -6.72691583e-01]\n [-8.09031131e-01  3.40997170e-01 -2.25733059e-01 -7.61352167e-01\n  -4.40299566e-02  2.64730040e-01 -3.94696134e-01 -6.72691583e-01]\n [ 6.84564803e-01  3.40997170e-01 -1.07223203e+00 -5.19111210e-01\n  -3.83343383e-01  2.50925040e-01 -6.93319881e-01 -1.74401522e-01]]\n"
     ]
    }
   ],
   "source": [
    "# llama featureNormalize con los datos cargados\n",
    "x_norm, mu, sigma = featureNormalize(x)\n",
    "\n",
    "#print(x)\n",
    "print('Media calculada:', mu)\n",
    "print('Desviación estandar calculada:', sigma)\n",
    "print('xnorm\\n',x_norm)"
   ]
  },
  {
   "cell_type": "markdown",
   "metadata": {},
   "source": [
    "Despues de `featureNormalize` la funcion es provada, se añade el temino de interseccion a `X_norm`:"
   ]
  },
  {
   "cell_type": "code",
   "execution_count": 40,
   "metadata": {},
   "outputs": [
    {
     "output_type": "stream",
     "name": "stdout",
     "text": [
      "[[ 1.          0.6845648   0.34099717 ...  0.25322587 -0.17751523\n  -0.67269158]\n [ 1.         -0.80903113  0.34099717 ...  0.27623421  0.60071636\n   1.81875873]\n [ 1.         -0.80903113 -1.70498585 ...  0.19800588  0.21160056\n  -0.17440152]\n ...\n [ 1.          0.6845648   0.34099717 ...  0.26933171  1.11652101\n  -0.67269158]\n [ 1.         -0.80903113  0.34099717 ...  0.26473004 -0.39469613\n  -0.67269158]\n [ 1.          0.6845648   0.34099717 ...  0.25092504 -0.69331988\n  -0.17440152]]\n"
     ]
    }
   ],
   "source": [
    "# Añade el termino de interseccion a X\n",
    "# (Columna de unos para X0)\n",
    "x = np.concatenate([np.ones((m, 1)), x_norm], axis=1)\n",
    "print(x)"
   ]
  },
  {
   "cell_type": "markdown",
   "metadata": {},
   "source": [
    "<a id=\"section5\"></a>\n",
    "### 2.2 Descenso por el gradiente\n",
    "\n",
    "En el ejemplo anterior se implemento el descenso por el gradiente para un problema de regresion univariable. La unica diferencia es que ahora existe una caracteristica adicional en la matriz $X$. La función de hipótesis y la regla de actualización del descenso del gradiente por lotes permanecen sin cambios.\n",
    "\n",
    "La implementacion de las funciones `computeCostMulti` y `gradientDescentMulti` son similares a la funcion de costo y función de descenso por el gradiente de la regresión lineal multiple es similar al de la regresion lineal multivariable. Es importante garantizar que el codigo soporte cualquier numero de caracteristicas y esten bien vectorizadas.\n",
    "\n",
    "Se puede utilizar `shape`, propiedad de los arrays `numpy`, para identificar cuantas caracteristicas estan consideradas en el dataset.\n",
    "\n",
    "<div class=\"alert alert-block alert-warning\">\n",
    "**Nota de implementación:** En el caso de multivariables, la función de costo puede se escrita considerando la forma vectorizada de la siguiente manera:\n",
    "\n",
    "$$ J(\\theta) = \\frac{1}{2m}(X\\theta - \\vec{y})^T(X\\theta - \\vec{y}) $$\n",
    "\n",
    "donde:\n",
    "\n",
    "$$ X = \\begin{pmatrix}\n",
    "          - (x^{(1)})^T - \\\\\n",
    "          - (x^{(2)})^T - \\\\\n",
    "          \\vdots \\\\\n",
    "          - (x^{(m)})^T - \\\\ \\\\\n",
    "        \\end{pmatrix} \\qquad \\mathbf{y} = \\begin{bmatrix} y^{(1)} \\\\ y^{(2)} \\\\ \\vdots \\\\ y^{(m)} \\\\\\end{bmatrix}$$\n",
    "\n",
    "La version vectorizada es eficiente cuando se trabaja con herramientas de calculo numericos computacional como `numpy`. \n",
    "</div>\n",
    "\n",
    "<a id=\"computeCostMulti\"></a>"
   ]
  },
  {
   "cell_type": "code",
   "execution_count": 41,
   "metadata": {},
   "outputs": [],
   "source": [
    "def computeCostMulti(x, y, theta):\n",
    "    # Inicializa algunos valores utiles\n",
    "    m = y.shape[0] # numero de ejemplos de entrenamiento\n",
    "\n",
    "    J = 0\n",
    "    h = np.dot(x, theta)\n",
    "    J = (1/(2 * m)) * np.sum(np.square(np.dot(x, theta) - y))    \n",
    "    return J"
   ]
  },
  {
   "cell_type": "code",
   "execution_count": 42,
   "metadata": {},
   "outputs": [],
   "source": [
    "def gradientDescentMulti(x, y, theta, alpha, num_iters):\n",
    "    \n",
    "    # Inicializa algunos valores \n",
    "    m = y.shape[0] # numero de ejemplos de entrenamiento\n",
    "    \n",
    "    # realiza una copia de theta, el cual será acutalizada por el descenso por el gradiente\n",
    "    theta = theta.copy()\n",
    "    \n",
    "    J_history = []\n",
    "    \n",
    "    for i in range(num_iters):\n",
    "        theta = theta - (alpha / m) * (np.dot(x, theta) - y).dot(x)\n",
    "        J_history.append(computeCostMulti(x, y, theta))\n",
    "    \n",
    "    return theta, J_history"
   ]
  },
  {
   "cell_type": "markdown",
   "metadata": {},
   "source": [
    "#### 3.2.1 Seleccionando coheficientes de aprendizaje\n"
   ]
  },
  {
   "cell_type": "code",
   "execution_count": 43,
   "metadata": {},
   "outputs": [
    {
     "output_type": "stream",
     "name": "stdout",
     "text": [
      "theta calculado por el descenso por el gradiente: [ 570967.01624416  -14514.39186387    7916.86599812    2915.91380091\n     792.31342574  234683.37957247   14519.42059323 -121049.72024575\n   -6663.23325259]\nEl precio predecido para una casa de 1650 sq-ft y 3 dormitorios (usando el descenso por el gradiente): $1641572\n"
     ]
    },
    {
     "output_type": "display_data",
     "data": {
      "text/plain": "<Figure size 432x288 with 1 Axes>",
      "image/svg+xml": "<?xml version=\"1.0\" encoding=\"utf-8\" standalone=\"no\"?>\r\n<!DOCTYPE svg PUBLIC \"-//W3C//DTD SVG 1.1//EN\"\r\n  \"http://www.w3.org/Graphics/SVG/1.1/DTD/svg11.dtd\">\r\n<svg height=\"272.794688pt\" version=\"1.1\" viewBox=\"0 0 392.14375 272.794688\" width=\"392.14375pt\" xmlns=\"http://www.w3.org/2000/svg\" xmlns:xlink=\"http://www.w3.org/1999/xlink\">\r\n <metadata>\r\n  <rdf:RDF xmlns:cc=\"http://creativecommons.org/ns#\" xmlns:dc=\"http://purl.org/dc/elements/1.1/\" xmlns:rdf=\"http://www.w3.org/1999/02/22-rdf-syntax-ns#\">\r\n   <cc:Work>\r\n    <dc:type rdf:resource=\"http://purl.org/dc/dcmitype/StillImage\"/>\r\n    <dc:date>2021-05-28T16:05:53.986667</dc:date>\r\n    <dc:format>image/svg+xml</dc:format>\r\n    <dc:creator>\r\n     <cc:Agent>\r\n      <dc:title>Matplotlib v3.4.2, https://matplotlib.org/</dc:title>\r\n     </cc:Agent>\r\n    </dc:creator>\r\n   </cc:Work>\r\n  </rdf:RDF>\r\n </metadata>\r\n <defs>\r\n  <style type=\"text/css\">*{stroke-linecap:butt;stroke-linejoin:round;}</style>\r\n </defs>\r\n <g id=\"figure_1\">\r\n  <g id=\"patch_1\">\r\n   <path d=\"M 0 272.794688 \r\nL 392.14375 272.794688 \r\nL 392.14375 0 \r\nL 0 0 \r\nz\r\n\" style=\"fill:none;\"/>\r\n  </g>\r\n  <g id=\"axes_1\">\r\n   <g id=\"patch_2\">\r\n    <path d=\"M 50.14375 235.238438 \r\nL 384.94375 235.238438 \r\nL 384.94375 17.798438 \r\nL 50.14375 17.798438 \r\nz\r\n\" style=\"fill:#ffffff;\"/>\r\n   </g>\r\n   <g id=\"matplotlib.axis_1\">\r\n    <g id=\"xtick_1\">\r\n     <g id=\"line2d_1\">\r\n      <defs>\r\n       <path d=\"M 0 0 \r\nL 0 3.5 \r\n\" id=\"mec899bb567\" style=\"stroke:#000000;stroke-width:0.8;\"/>\r\n      </defs>\r\n      <g>\r\n       <use style=\"stroke:#000000;stroke-width:0.8;\" x=\"65.361932\" xlink:href=\"#mec899bb567\" y=\"235.238438\"/>\r\n      </g>\r\n     </g>\r\n     <g id=\"text_1\">\r\n      <!-- 0 -->\r\n      <g transform=\"translate(62.180682 249.836875)scale(0.1 -0.1)\">\r\n       <defs>\r\n        <path d=\"M 2034 4250 \r\nQ 1547 4250 1301 3770 \r\nQ 1056 3291 1056 2328 \r\nQ 1056 1369 1301 889 \r\nQ 1547 409 2034 409 \r\nQ 2525 409 2770 889 \r\nQ 3016 1369 3016 2328 \r\nQ 3016 3291 2770 3770 \r\nQ 2525 4250 2034 4250 \r\nz\r\nM 2034 4750 \r\nQ 2819 4750 3233 4129 \r\nQ 3647 3509 3647 2328 \r\nQ 3647 1150 3233 529 \r\nQ 2819 -91 2034 -91 \r\nQ 1250 -91 836 529 \r\nQ 422 1150 422 2328 \r\nQ 422 3509 836 4129 \r\nQ 1250 4750 2034 4750 \r\nz\r\n\" id=\"DejaVuSans-30\" transform=\"scale(0.015625)\"/>\r\n       </defs>\r\n       <use xlink:href=\"#DejaVuSans-30\"/>\r\n      </g>\r\n     </g>\r\n    </g>\r\n    <g id=\"xtick_2\">\r\n     <g id=\"line2d_2\">\r\n      <g>\r\n       <use style=\"stroke:#000000;stroke-width:0.8;\" x=\"126.295593\" xlink:href=\"#mec899bb567\" y=\"235.238438\"/>\r\n      </g>\r\n     </g>\r\n     <g id=\"text_2\">\r\n      <!-- 200 -->\r\n      <g transform=\"translate(116.751843 249.836875)scale(0.1 -0.1)\">\r\n       <defs>\r\n        <path d=\"M 1228 531 \r\nL 3431 531 \r\nL 3431 0 \r\nL 469 0 \r\nL 469 531 \r\nQ 828 903 1448 1529 \r\nQ 2069 2156 2228 2338 \r\nQ 2531 2678 2651 2914 \r\nQ 2772 3150 2772 3378 \r\nQ 2772 3750 2511 3984 \r\nQ 2250 4219 1831 4219 \r\nQ 1534 4219 1204 4116 \r\nQ 875 4013 500 3803 \r\nL 500 4441 \r\nQ 881 4594 1212 4672 \r\nQ 1544 4750 1819 4750 \r\nQ 2544 4750 2975 4387 \r\nQ 3406 4025 3406 3419 \r\nQ 3406 3131 3298 2873 \r\nQ 3191 2616 2906 2266 \r\nQ 2828 2175 2409 1742 \r\nQ 1991 1309 1228 531 \r\nz\r\n\" id=\"DejaVuSans-32\" transform=\"scale(0.015625)\"/>\r\n       </defs>\r\n       <use xlink:href=\"#DejaVuSans-32\"/>\r\n       <use x=\"63.623047\" xlink:href=\"#DejaVuSans-30\"/>\r\n       <use x=\"127.246094\" xlink:href=\"#DejaVuSans-30\"/>\r\n      </g>\r\n     </g>\r\n    </g>\r\n    <g id=\"xtick_3\">\r\n     <g id=\"line2d_3\">\r\n      <g>\r\n       <use style=\"stroke:#000000;stroke-width:0.8;\" x=\"187.229254\" xlink:href=\"#mec899bb567\" y=\"235.238438\"/>\r\n      </g>\r\n     </g>\r\n     <g id=\"text_3\">\r\n      <!-- 400 -->\r\n      <g transform=\"translate(177.685504 249.836875)scale(0.1 -0.1)\">\r\n       <defs>\r\n        <path d=\"M 2419 4116 \r\nL 825 1625 \r\nL 2419 1625 \r\nL 2419 4116 \r\nz\r\nM 2253 4666 \r\nL 3047 4666 \r\nL 3047 1625 \r\nL 3713 1625 \r\nL 3713 1100 \r\nL 3047 1100 \r\nL 3047 0 \r\nL 2419 0 \r\nL 2419 1100 \r\nL 313 1100 \r\nL 313 1709 \r\nL 2253 4666 \r\nz\r\n\" id=\"DejaVuSans-34\" transform=\"scale(0.015625)\"/>\r\n       </defs>\r\n       <use xlink:href=\"#DejaVuSans-34\"/>\r\n       <use x=\"63.623047\" xlink:href=\"#DejaVuSans-30\"/>\r\n       <use x=\"127.246094\" xlink:href=\"#DejaVuSans-30\"/>\r\n      </g>\r\n     </g>\r\n    </g>\r\n    <g id=\"xtick_4\">\r\n     <g id=\"line2d_4\">\r\n      <g>\r\n       <use style=\"stroke:#000000;stroke-width:0.8;\" x=\"248.162915\" xlink:href=\"#mec899bb567\" y=\"235.238438\"/>\r\n      </g>\r\n     </g>\r\n     <g id=\"text_4\">\r\n      <!-- 600 -->\r\n      <g transform=\"translate(238.619165 249.836875)scale(0.1 -0.1)\">\r\n       <defs>\r\n        <path d=\"M 2113 2584 \r\nQ 1688 2584 1439 2293 \r\nQ 1191 2003 1191 1497 \r\nQ 1191 994 1439 701 \r\nQ 1688 409 2113 409 \r\nQ 2538 409 2786 701 \r\nQ 3034 994 3034 1497 \r\nQ 3034 2003 2786 2293 \r\nQ 2538 2584 2113 2584 \r\nz\r\nM 3366 4563 \r\nL 3366 3988 \r\nQ 3128 4100 2886 4159 \r\nQ 2644 4219 2406 4219 \r\nQ 1781 4219 1451 3797 \r\nQ 1122 3375 1075 2522 \r\nQ 1259 2794 1537 2939 \r\nQ 1816 3084 2150 3084 \r\nQ 2853 3084 3261 2657 \r\nQ 3669 2231 3669 1497 \r\nQ 3669 778 3244 343 \r\nQ 2819 -91 2113 -91 \r\nQ 1303 -91 875 529 \r\nQ 447 1150 447 2328 \r\nQ 447 3434 972 4092 \r\nQ 1497 4750 2381 4750 \r\nQ 2619 4750 2861 4703 \r\nQ 3103 4656 3366 4563 \r\nz\r\n\" id=\"DejaVuSans-36\" transform=\"scale(0.015625)\"/>\r\n       </defs>\r\n       <use xlink:href=\"#DejaVuSans-36\"/>\r\n       <use x=\"63.623047\" xlink:href=\"#DejaVuSans-30\"/>\r\n       <use x=\"127.246094\" xlink:href=\"#DejaVuSans-30\"/>\r\n      </g>\r\n     </g>\r\n    </g>\r\n    <g id=\"xtick_5\">\r\n     <g id=\"line2d_5\">\r\n      <g>\r\n       <use style=\"stroke:#000000;stroke-width:0.8;\" x=\"309.096576\" xlink:href=\"#mec899bb567\" y=\"235.238438\"/>\r\n      </g>\r\n     </g>\r\n     <g id=\"text_5\">\r\n      <!-- 800 -->\r\n      <g transform=\"translate(299.552826 249.836875)scale(0.1 -0.1)\">\r\n       <defs>\r\n        <path d=\"M 2034 2216 \r\nQ 1584 2216 1326 1975 \r\nQ 1069 1734 1069 1313 \r\nQ 1069 891 1326 650 \r\nQ 1584 409 2034 409 \r\nQ 2484 409 2743 651 \r\nQ 3003 894 3003 1313 \r\nQ 3003 1734 2745 1975 \r\nQ 2488 2216 2034 2216 \r\nz\r\nM 1403 2484 \r\nQ 997 2584 770 2862 \r\nQ 544 3141 544 3541 \r\nQ 544 4100 942 4425 \r\nQ 1341 4750 2034 4750 \r\nQ 2731 4750 3128 4425 \r\nQ 3525 4100 3525 3541 \r\nQ 3525 3141 3298 2862 \r\nQ 3072 2584 2669 2484 \r\nQ 3125 2378 3379 2068 \r\nQ 3634 1759 3634 1313 \r\nQ 3634 634 3220 271 \r\nQ 2806 -91 2034 -91 \r\nQ 1263 -91 848 271 \r\nQ 434 634 434 1313 \r\nQ 434 1759 690 2068 \r\nQ 947 2378 1403 2484 \r\nz\r\nM 1172 3481 \r\nQ 1172 3119 1398 2916 \r\nQ 1625 2713 2034 2713 \r\nQ 2441 2713 2670 2916 \r\nQ 2900 3119 2900 3481 \r\nQ 2900 3844 2670 4047 \r\nQ 2441 4250 2034 4250 \r\nQ 1625 4250 1398 4047 \r\nQ 1172 3844 1172 3481 \r\nz\r\n\" id=\"DejaVuSans-38\" transform=\"scale(0.015625)\"/>\r\n       </defs>\r\n       <use xlink:href=\"#DejaVuSans-38\"/>\r\n       <use x=\"63.623047\" xlink:href=\"#DejaVuSans-30\"/>\r\n       <use x=\"127.246094\" xlink:href=\"#DejaVuSans-30\"/>\r\n      </g>\r\n     </g>\r\n    </g>\r\n    <g id=\"xtick_6\">\r\n     <g id=\"line2d_6\">\r\n      <g>\r\n       <use style=\"stroke:#000000;stroke-width:0.8;\" x=\"370.030236\" xlink:href=\"#mec899bb567\" y=\"235.238438\"/>\r\n      </g>\r\n     </g>\r\n     <g id=\"text_6\">\r\n      <!-- 1000 -->\r\n      <g transform=\"translate(357.305236 249.836875)scale(0.1 -0.1)\">\r\n       <defs>\r\n        <path d=\"M 794 531 \r\nL 1825 531 \r\nL 1825 4091 \r\nL 703 3866 \r\nL 703 4441 \r\nL 1819 4666 \r\nL 2450 4666 \r\nL 2450 531 \r\nL 3481 531 \r\nL 3481 0 \r\nL 794 0 \r\nL 794 531 \r\nz\r\n\" id=\"DejaVuSans-31\" transform=\"scale(0.015625)\"/>\r\n       </defs>\r\n       <use xlink:href=\"#DejaVuSans-31\"/>\r\n       <use x=\"63.623047\" xlink:href=\"#DejaVuSans-30\"/>\r\n       <use x=\"127.246094\" xlink:href=\"#DejaVuSans-30\"/>\r\n       <use x=\"190.869141\" xlink:href=\"#DejaVuSans-30\"/>\r\n      </g>\r\n     </g>\r\n    </g>\r\n    <g id=\"text_7\">\r\n     <!-- Numero de iteraciones -->\r\n     <g transform=\"translate(160.663281 263.515)scale(0.1 -0.1)\">\r\n      <defs>\r\n       <path d=\"M 628 4666 \r\nL 1478 4666 \r\nL 3547 763 \r\nL 3547 4666 \r\nL 4159 4666 \r\nL 4159 0 \r\nL 3309 0 \r\nL 1241 3903 \r\nL 1241 0 \r\nL 628 0 \r\nL 628 4666 \r\nz\r\n\" id=\"DejaVuSans-4e\" transform=\"scale(0.015625)\"/>\r\n       <path d=\"M 544 1381 \r\nL 544 3500 \r\nL 1119 3500 \r\nL 1119 1403 \r\nQ 1119 906 1312 657 \r\nQ 1506 409 1894 409 \r\nQ 2359 409 2629 706 \r\nQ 2900 1003 2900 1516 \r\nL 2900 3500 \r\nL 3475 3500 \r\nL 3475 0 \r\nL 2900 0 \r\nL 2900 538 \r\nQ 2691 219 2414 64 \r\nQ 2138 -91 1772 -91 \r\nQ 1169 -91 856 284 \r\nQ 544 659 544 1381 \r\nz\r\nM 1991 3584 \r\nL 1991 3584 \r\nz\r\n\" id=\"DejaVuSans-75\" transform=\"scale(0.015625)\"/>\r\n       <path d=\"M 3328 2828 \r\nQ 3544 3216 3844 3400 \r\nQ 4144 3584 4550 3584 \r\nQ 5097 3584 5394 3201 \r\nQ 5691 2819 5691 2113 \r\nL 5691 0 \r\nL 5113 0 \r\nL 5113 2094 \r\nQ 5113 2597 4934 2840 \r\nQ 4756 3084 4391 3084 \r\nQ 3944 3084 3684 2787 \r\nQ 3425 2491 3425 1978 \r\nL 3425 0 \r\nL 2847 0 \r\nL 2847 2094 \r\nQ 2847 2600 2669 2842 \r\nQ 2491 3084 2119 3084 \r\nQ 1678 3084 1418 2786 \r\nQ 1159 2488 1159 1978 \r\nL 1159 0 \r\nL 581 0 \r\nL 581 3500 \r\nL 1159 3500 \r\nL 1159 2956 \r\nQ 1356 3278 1631 3431 \r\nQ 1906 3584 2284 3584 \r\nQ 2666 3584 2933 3390 \r\nQ 3200 3197 3328 2828 \r\nz\r\n\" id=\"DejaVuSans-6d\" transform=\"scale(0.015625)\"/>\r\n       <path d=\"M 3597 1894 \r\nL 3597 1613 \r\nL 953 1613 \r\nQ 991 1019 1311 708 \r\nQ 1631 397 2203 397 \r\nQ 2534 397 2845 478 \r\nQ 3156 559 3463 722 \r\nL 3463 178 \r\nQ 3153 47 2828 -22 \r\nQ 2503 -91 2169 -91 \r\nQ 1331 -91 842 396 \r\nQ 353 884 353 1716 \r\nQ 353 2575 817 3079 \r\nQ 1281 3584 2069 3584 \r\nQ 2775 3584 3186 3129 \r\nQ 3597 2675 3597 1894 \r\nz\r\nM 3022 2063 \r\nQ 3016 2534 2758 2815 \r\nQ 2500 3097 2075 3097 \r\nQ 1594 3097 1305 2825 \r\nQ 1016 2553 972 2059 \r\nL 3022 2063 \r\nz\r\n\" id=\"DejaVuSans-65\" transform=\"scale(0.015625)\"/>\r\n       <path d=\"M 2631 2963 \r\nQ 2534 3019 2420 3045 \r\nQ 2306 3072 2169 3072 \r\nQ 1681 3072 1420 2755 \r\nQ 1159 2438 1159 1844 \r\nL 1159 0 \r\nL 581 0 \r\nL 581 3500 \r\nL 1159 3500 \r\nL 1159 2956 \r\nQ 1341 3275 1631 3429 \r\nQ 1922 3584 2338 3584 \r\nQ 2397 3584 2469 3576 \r\nQ 2541 3569 2628 3553 \r\nL 2631 2963 \r\nz\r\n\" id=\"DejaVuSans-72\" transform=\"scale(0.015625)\"/>\r\n       <path d=\"M 1959 3097 \r\nQ 1497 3097 1228 2736 \r\nQ 959 2375 959 1747 \r\nQ 959 1119 1226 758 \r\nQ 1494 397 1959 397 \r\nQ 2419 397 2687 759 \r\nQ 2956 1122 2956 1747 \r\nQ 2956 2369 2687 2733 \r\nQ 2419 3097 1959 3097 \r\nz\r\nM 1959 3584 \r\nQ 2709 3584 3137 3096 \r\nQ 3566 2609 3566 1747 \r\nQ 3566 888 3137 398 \r\nQ 2709 -91 1959 -91 \r\nQ 1206 -91 779 398 \r\nQ 353 888 353 1747 \r\nQ 353 2609 779 3096 \r\nQ 1206 3584 1959 3584 \r\nz\r\n\" id=\"DejaVuSans-6f\" transform=\"scale(0.015625)\"/>\r\n       <path id=\"DejaVuSans-20\" transform=\"scale(0.015625)\"/>\r\n       <path d=\"M 2906 2969 \r\nL 2906 4863 \r\nL 3481 4863 \r\nL 3481 0 \r\nL 2906 0 \r\nL 2906 525 \r\nQ 2725 213 2448 61 \r\nQ 2172 -91 1784 -91 \r\nQ 1150 -91 751 415 \r\nQ 353 922 353 1747 \r\nQ 353 2572 751 3078 \r\nQ 1150 3584 1784 3584 \r\nQ 2172 3584 2448 3432 \r\nQ 2725 3281 2906 2969 \r\nz\r\nM 947 1747 \r\nQ 947 1113 1208 752 \r\nQ 1469 391 1925 391 \r\nQ 2381 391 2643 752 \r\nQ 2906 1113 2906 1747 \r\nQ 2906 2381 2643 2742 \r\nQ 2381 3103 1925 3103 \r\nQ 1469 3103 1208 2742 \r\nQ 947 2381 947 1747 \r\nz\r\n\" id=\"DejaVuSans-64\" transform=\"scale(0.015625)\"/>\r\n       <path d=\"M 603 3500 \r\nL 1178 3500 \r\nL 1178 0 \r\nL 603 0 \r\nL 603 3500 \r\nz\r\nM 603 4863 \r\nL 1178 4863 \r\nL 1178 4134 \r\nL 603 4134 \r\nL 603 4863 \r\nz\r\n\" id=\"DejaVuSans-69\" transform=\"scale(0.015625)\"/>\r\n       <path d=\"M 1172 4494 \r\nL 1172 3500 \r\nL 2356 3500 \r\nL 2356 3053 \r\nL 1172 3053 \r\nL 1172 1153 \r\nQ 1172 725 1289 603 \r\nQ 1406 481 1766 481 \r\nL 2356 481 \r\nL 2356 0 \r\nL 1766 0 \r\nQ 1100 0 847 248 \r\nQ 594 497 594 1153 \r\nL 594 3053 \r\nL 172 3053 \r\nL 172 3500 \r\nL 594 3500 \r\nL 594 4494 \r\nL 1172 4494 \r\nz\r\n\" id=\"DejaVuSans-74\" transform=\"scale(0.015625)\"/>\r\n       <path d=\"M 2194 1759 \r\nQ 1497 1759 1228 1600 \r\nQ 959 1441 959 1056 \r\nQ 959 750 1161 570 \r\nQ 1363 391 1709 391 \r\nQ 2188 391 2477 730 \r\nQ 2766 1069 2766 1631 \r\nL 2766 1759 \r\nL 2194 1759 \r\nz\r\nM 3341 1997 \r\nL 3341 0 \r\nL 2766 0 \r\nL 2766 531 \r\nQ 2569 213 2275 61 \r\nQ 1981 -91 1556 -91 \r\nQ 1019 -91 701 211 \r\nQ 384 513 384 1019 \r\nQ 384 1609 779 1909 \r\nQ 1175 2209 1959 2209 \r\nL 2766 2209 \r\nL 2766 2266 \r\nQ 2766 2663 2505 2880 \r\nQ 2244 3097 1772 3097 \r\nQ 1472 3097 1187 3025 \r\nQ 903 2953 641 2809 \r\nL 641 3341 \r\nQ 956 3463 1253 3523 \r\nQ 1550 3584 1831 3584 \r\nQ 2591 3584 2966 3190 \r\nQ 3341 2797 3341 1997 \r\nz\r\n\" id=\"DejaVuSans-61\" transform=\"scale(0.015625)\"/>\r\n       <path d=\"M 3122 3366 \r\nL 3122 2828 \r\nQ 2878 2963 2633 3030 \r\nQ 2388 3097 2138 3097 \r\nQ 1578 3097 1268 2742 \r\nQ 959 2388 959 1747 \r\nQ 959 1106 1268 751 \r\nQ 1578 397 2138 397 \r\nQ 2388 397 2633 464 \r\nQ 2878 531 3122 666 \r\nL 3122 134 \r\nQ 2881 22 2623 -34 \r\nQ 2366 -91 2075 -91 \r\nQ 1284 -91 818 406 \r\nQ 353 903 353 1747 \r\nQ 353 2603 823 3093 \r\nQ 1294 3584 2113 3584 \r\nQ 2378 3584 2631 3529 \r\nQ 2884 3475 3122 3366 \r\nz\r\n\" id=\"DejaVuSans-63\" transform=\"scale(0.015625)\"/>\r\n       <path d=\"M 3513 2113 \r\nL 3513 0 \r\nL 2938 0 \r\nL 2938 2094 \r\nQ 2938 2591 2744 2837 \r\nQ 2550 3084 2163 3084 \r\nQ 1697 3084 1428 2787 \r\nQ 1159 2491 1159 1978 \r\nL 1159 0 \r\nL 581 0 \r\nL 581 3500 \r\nL 1159 3500 \r\nL 1159 2956 \r\nQ 1366 3272 1645 3428 \r\nQ 1925 3584 2291 3584 \r\nQ 2894 3584 3203 3211 \r\nQ 3513 2838 3513 2113 \r\nz\r\n\" id=\"DejaVuSans-6e\" transform=\"scale(0.015625)\"/>\r\n       <path d=\"M 2834 3397 \r\nL 2834 2853 \r\nQ 2591 2978 2328 3040 \r\nQ 2066 3103 1784 3103 \r\nQ 1356 3103 1142 2972 \r\nQ 928 2841 928 2578 \r\nQ 928 2378 1081 2264 \r\nQ 1234 2150 1697 2047 \r\nL 1894 2003 \r\nQ 2506 1872 2764 1633 \r\nQ 3022 1394 3022 966 \r\nQ 3022 478 2636 193 \r\nQ 2250 -91 1575 -91 \r\nQ 1294 -91 989 -36 \r\nQ 684 19 347 128 \r\nL 347 722 \r\nQ 666 556 975 473 \r\nQ 1284 391 1588 391 \r\nQ 1994 391 2212 530 \r\nQ 2431 669 2431 922 \r\nQ 2431 1156 2273 1281 \r\nQ 2116 1406 1581 1522 \r\nL 1381 1569 \r\nQ 847 1681 609 1914 \r\nQ 372 2147 372 2553 \r\nQ 372 3047 722 3315 \r\nQ 1072 3584 1716 3584 \r\nQ 2034 3584 2315 3537 \r\nQ 2597 3491 2834 3397 \r\nz\r\n\" id=\"DejaVuSans-73\" transform=\"scale(0.015625)\"/>\r\n      </defs>\r\n      <use xlink:href=\"#DejaVuSans-4e\"/>\r\n      <use x=\"74.804688\" xlink:href=\"#DejaVuSans-75\"/>\r\n      <use x=\"138.183594\" xlink:href=\"#DejaVuSans-6d\"/>\r\n      <use x=\"235.595703\" xlink:href=\"#DejaVuSans-65\"/>\r\n      <use x=\"297.119141\" xlink:href=\"#DejaVuSans-72\"/>\r\n      <use x=\"335.982422\" xlink:href=\"#DejaVuSans-6f\"/>\r\n      <use x=\"397.164062\" xlink:href=\"#DejaVuSans-20\"/>\r\n      <use x=\"428.951172\" xlink:href=\"#DejaVuSans-64\"/>\r\n      <use x=\"492.427734\" xlink:href=\"#DejaVuSans-65\"/>\r\n      <use x=\"553.951172\" xlink:href=\"#DejaVuSans-20\"/>\r\n      <use x=\"585.738281\" xlink:href=\"#DejaVuSans-69\"/>\r\n      <use x=\"613.521484\" xlink:href=\"#DejaVuSans-74\"/>\r\n      <use x=\"652.730469\" xlink:href=\"#DejaVuSans-65\"/>\r\n      <use x=\"714.253906\" xlink:href=\"#DejaVuSans-72\"/>\r\n      <use x=\"755.367188\" xlink:href=\"#DejaVuSans-61\"/>\r\n      <use x=\"816.646484\" xlink:href=\"#DejaVuSans-63\"/>\r\n      <use x=\"871.626953\" xlink:href=\"#DejaVuSans-69\"/>\r\n      <use x=\"899.410156\" xlink:href=\"#DejaVuSans-6f\"/>\r\n      <use x=\"960.591797\" xlink:href=\"#DejaVuSans-6e\"/>\r\n      <use x=\"1023.970703\" xlink:href=\"#DejaVuSans-65\"/>\r\n      <use x=\"1085.494141\" xlink:href=\"#DejaVuSans-73\"/>\r\n     </g>\r\n    </g>\r\n   </g>\r\n   <g id=\"matplotlib.axis_2\">\r\n    <g id=\"ytick_1\">\r\n     <g id=\"line2d_7\">\r\n      <defs>\r\n       <path d=\"M 0 0 \r\nL -3.5 0 \r\n\" id=\"mce76838525\" style=\"stroke:#000000;stroke-width:0.8;\"/>\r\n      </defs>\r\n      <g>\r\n       <use style=\"stroke:#000000;stroke-width:0.8;\" x=\"50.14375\" xlink:href=\"#mce76838525\" y=\"215.778248\"/>\r\n      </g>\r\n     </g>\r\n     <g id=\"text_8\">\r\n      <!-- 0.25 -->\r\n      <g transform=\"translate(20.878125 219.577467)scale(0.1 -0.1)\">\r\n       <defs>\r\n        <path d=\"M 684 794 \r\nL 1344 794 \r\nL 1344 0 \r\nL 684 0 \r\nL 684 794 \r\nz\r\n\" id=\"DejaVuSans-2e\" transform=\"scale(0.015625)\"/>\r\n        <path d=\"M 691 4666 \r\nL 3169 4666 \r\nL 3169 4134 \r\nL 1269 4134 \r\nL 1269 2991 \r\nQ 1406 3038 1543 3061 \r\nQ 1681 3084 1819 3084 \r\nQ 2600 3084 3056 2656 \r\nQ 3513 2228 3513 1497 \r\nQ 3513 744 3044 326 \r\nQ 2575 -91 1722 -91 \r\nQ 1428 -91 1123 -41 \r\nQ 819 9 494 109 \r\nL 494 744 \r\nQ 775 591 1075 516 \r\nQ 1375 441 1709 441 \r\nQ 2250 441 2565 725 \r\nQ 2881 1009 2881 1497 \r\nQ 2881 1984 2565 2268 \r\nQ 2250 2553 1709 2553 \r\nQ 1456 2553 1204 2497 \r\nQ 953 2441 691 2322 \r\nL 691 4666 \r\nz\r\n\" id=\"DejaVuSans-35\" transform=\"scale(0.015625)\"/>\r\n       </defs>\r\n       <use xlink:href=\"#DejaVuSans-30\"/>\r\n       <use x=\"63.623047\" xlink:href=\"#DejaVuSans-2e\"/>\r\n       <use x=\"95.410156\" xlink:href=\"#DejaVuSans-32\"/>\r\n       <use x=\"159.033203\" xlink:href=\"#DejaVuSans-35\"/>\r\n      </g>\r\n     </g>\r\n    </g>\r\n    <g id=\"ytick_2\">\r\n     <g id=\"line2d_8\">\r\n      <g>\r\n       <use style=\"stroke:#000000;stroke-width:0.8;\" x=\"50.14375\" xlink:href=\"#mce76838525\" y=\"190.29695\"/>\r\n      </g>\r\n     </g>\r\n     <g id=\"text_9\">\r\n      <!-- 0.50 -->\r\n      <g transform=\"translate(20.878125 194.096168)scale(0.1 -0.1)\">\r\n       <use xlink:href=\"#DejaVuSans-30\"/>\r\n       <use x=\"63.623047\" xlink:href=\"#DejaVuSans-2e\"/>\r\n       <use x=\"95.410156\" xlink:href=\"#DejaVuSans-35\"/>\r\n       <use x=\"159.033203\" xlink:href=\"#DejaVuSans-30\"/>\r\n      </g>\r\n     </g>\r\n    </g>\r\n    <g id=\"ytick_3\">\r\n     <g id=\"line2d_9\">\r\n      <g>\r\n       <use style=\"stroke:#000000;stroke-width:0.8;\" x=\"50.14375\" xlink:href=\"#mce76838525\" y=\"164.815651\"/>\r\n      </g>\r\n     </g>\r\n     <g id=\"text_10\">\r\n      <!-- 0.75 -->\r\n      <g transform=\"translate(20.878125 168.61487)scale(0.1 -0.1)\">\r\n       <defs>\r\n        <path d=\"M 525 4666 \r\nL 3525 4666 \r\nL 3525 4397 \r\nL 1831 0 \r\nL 1172 0 \r\nL 2766 4134 \r\nL 525 4134 \r\nL 525 4666 \r\nz\r\n\" id=\"DejaVuSans-37\" transform=\"scale(0.015625)\"/>\r\n       </defs>\r\n       <use xlink:href=\"#DejaVuSans-30\"/>\r\n       <use x=\"63.623047\" xlink:href=\"#DejaVuSans-2e\"/>\r\n       <use x=\"95.410156\" xlink:href=\"#DejaVuSans-37\"/>\r\n       <use x=\"159.033203\" xlink:href=\"#DejaVuSans-35\"/>\r\n      </g>\r\n     </g>\r\n    </g>\r\n    <g id=\"ytick_4\">\r\n     <g id=\"line2d_10\">\r\n      <g>\r\n       <use style=\"stroke:#000000;stroke-width:0.8;\" x=\"50.14375\" xlink:href=\"#mce76838525\" y=\"139.334353\"/>\r\n      </g>\r\n     </g>\r\n     <g id=\"text_11\">\r\n      <!-- 1.00 -->\r\n      <g transform=\"translate(20.878125 143.133572)scale(0.1 -0.1)\">\r\n       <use xlink:href=\"#DejaVuSans-31\"/>\r\n       <use x=\"63.623047\" xlink:href=\"#DejaVuSans-2e\"/>\r\n       <use x=\"95.410156\" xlink:href=\"#DejaVuSans-30\"/>\r\n       <use x=\"159.033203\" xlink:href=\"#DejaVuSans-30\"/>\r\n      </g>\r\n     </g>\r\n    </g>\r\n    <g id=\"ytick_5\">\r\n     <g id=\"line2d_11\">\r\n      <g>\r\n       <use style=\"stroke:#000000;stroke-width:0.8;\" x=\"50.14375\" xlink:href=\"#mce76838525\" y=\"113.853054\"/>\r\n      </g>\r\n     </g>\r\n     <g id=\"text_12\">\r\n      <!-- 1.25 -->\r\n      <g transform=\"translate(20.878125 117.652273)scale(0.1 -0.1)\">\r\n       <use xlink:href=\"#DejaVuSans-31\"/>\r\n       <use x=\"63.623047\" xlink:href=\"#DejaVuSans-2e\"/>\r\n       <use x=\"95.410156\" xlink:href=\"#DejaVuSans-32\"/>\r\n       <use x=\"159.033203\" xlink:href=\"#DejaVuSans-35\"/>\r\n      </g>\r\n     </g>\r\n    </g>\r\n    <g id=\"ytick_6\">\r\n     <g id=\"line2d_12\">\r\n      <g>\r\n       <use style=\"stroke:#000000;stroke-width:0.8;\" x=\"50.14375\" xlink:href=\"#mce76838525\" y=\"88.371756\"/>\r\n      </g>\r\n     </g>\r\n     <g id=\"text_13\">\r\n      <!-- 1.50 -->\r\n      <g transform=\"translate(20.878125 92.170975)scale(0.1 -0.1)\">\r\n       <use xlink:href=\"#DejaVuSans-31\"/>\r\n       <use x=\"63.623047\" xlink:href=\"#DejaVuSans-2e\"/>\r\n       <use x=\"95.410156\" xlink:href=\"#DejaVuSans-35\"/>\r\n       <use x=\"159.033203\" xlink:href=\"#DejaVuSans-30\"/>\r\n      </g>\r\n     </g>\r\n    </g>\r\n    <g id=\"ytick_7\">\r\n     <g id=\"line2d_13\">\r\n      <g>\r\n       <use style=\"stroke:#000000;stroke-width:0.8;\" x=\"50.14375\" xlink:href=\"#mce76838525\" y=\"62.890458\"/>\r\n      </g>\r\n     </g>\r\n     <g id=\"text_14\">\r\n      <!-- 1.75 -->\r\n      <g transform=\"translate(20.878125 66.689676)scale(0.1 -0.1)\">\r\n       <use xlink:href=\"#DejaVuSans-31\"/>\r\n       <use x=\"63.623047\" xlink:href=\"#DejaVuSans-2e\"/>\r\n       <use x=\"95.410156\" xlink:href=\"#DejaVuSans-37\"/>\r\n       <use x=\"159.033203\" xlink:href=\"#DejaVuSans-35\"/>\r\n      </g>\r\n     </g>\r\n    </g>\r\n    <g id=\"ytick_8\">\r\n     <g id=\"line2d_14\">\r\n      <g>\r\n       <use style=\"stroke:#000000;stroke-width:0.8;\" x=\"50.14375\" xlink:href=\"#mce76838525\" y=\"37.409159\"/>\r\n      </g>\r\n     </g>\r\n     <g id=\"text_15\">\r\n      <!-- 2.00 -->\r\n      <g transform=\"translate(20.878125 41.208378)scale(0.1 -0.1)\">\r\n       <use xlink:href=\"#DejaVuSans-32\"/>\r\n       <use x=\"63.623047\" xlink:href=\"#DejaVuSans-2e\"/>\r\n       <use x=\"95.410156\" xlink:href=\"#DejaVuSans-30\"/>\r\n       <use x=\"159.033203\" xlink:href=\"#DejaVuSans-30\"/>\r\n      </g>\r\n     </g>\r\n    </g>\r\n    <g id=\"text_16\">\r\n     <!-- Costo J -->\r\n     <g transform=\"translate(14.798438 143.7575)rotate(-90)scale(0.1 -0.1)\">\r\n      <defs>\r\n       <path d=\"M 4122 4306 \r\nL 4122 3641 \r\nQ 3803 3938 3442 4084 \r\nQ 3081 4231 2675 4231 \r\nQ 1875 4231 1450 3742 \r\nQ 1025 3253 1025 2328 \r\nQ 1025 1406 1450 917 \r\nQ 1875 428 2675 428 \r\nQ 3081 428 3442 575 \r\nQ 3803 722 4122 1019 \r\nL 4122 359 \r\nQ 3791 134 3420 21 \r\nQ 3050 -91 2638 -91 \r\nQ 1578 -91 968 557 \r\nQ 359 1206 359 2328 \r\nQ 359 3453 968 4101 \r\nQ 1578 4750 2638 4750 \r\nQ 3056 4750 3426 4639 \r\nQ 3797 4528 4122 4306 \r\nz\r\n\" id=\"DejaVuSans-43\" transform=\"scale(0.015625)\"/>\r\n       <path d=\"M 628 4666 \r\nL 1259 4666 \r\nL 1259 325 \r\nQ 1259 -519 939 -900 \r\nQ 619 -1281 -91 -1281 \r\nL -331 -1281 \r\nL -331 -750 \r\nL -134 -750 \r\nQ 284 -750 456 -515 \r\nQ 628 -281 628 325 \r\nL 628 4666 \r\nz\r\n\" id=\"DejaVuSans-4a\" transform=\"scale(0.015625)\"/>\r\n      </defs>\r\n      <use xlink:href=\"#DejaVuSans-43\"/>\r\n      <use x=\"69.824219\" xlink:href=\"#DejaVuSans-6f\"/>\r\n      <use x=\"131.005859\" xlink:href=\"#DejaVuSans-73\"/>\r\n      <use x=\"183.105469\" xlink:href=\"#DejaVuSans-74\"/>\r\n      <use x=\"222.314453\" xlink:href=\"#DejaVuSans-6f\"/>\r\n      <use x=\"283.496094\" xlink:href=\"#DejaVuSans-20\"/>\r\n      <use x=\"315.283203\" xlink:href=\"#DejaVuSans-4a\"/>\r\n     </g>\r\n    </g>\r\n    <g id=\"text_17\">\r\n     <!-- 1e11 -->\r\n     <g transform=\"translate(50.14375 14.798437)scale(0.1 -0.1)\">\r\n      <use xlink:href=\"#DejaVuSans-31\"/>\r\n      <use x=\"63.623047\" xlink:href=\"#DejaVuSans-65\"/>\r\n      <use x=\"125.146484\" xlink:href=\"#DejaVuSans-31\"/>\r\n      <use x=\"188.769531\" xlink:href=\"#DejaVuSans-31\"/>\r\n     </g>\r\n    </g>\r\n   </g>\r\n   <g id=\"line2d_15\">\r\n    <path clip-path=\"url(#p6eb2ed61b3)\" d=\"M 65.361932 27.682074 \r\nL 67.189942 50.659697 \r\nL 69.017951 70.887082 \r\nL 70.845961 88.706606 \r\nL 72.673971 104.41564 \r\nL 74.501981 118.272904 \r\nL 76.329991 130.503849 \r\nL 78.158001 141.305222 \r\nL 79.98601 150.848952 \r\nL 81.81402 159.285465 \r\nL 83.64203 166.746527 \r\nL 85.47004 173.347678 \r\nL 87.29805 179.190327 \r\nL 89.12606 184.363563 \r\nL 90.954069 188.945711 \r\nL 92.782079 193.005689 \r\nL 94.914757 197.162905 \r\nL 97.047436 200.77575 \r\nL 99.180114 203.916799 \r\nL 101.312792 206.648753 \r\nL 103.44547 209.025816 \r\nL 105.578148 211.094878 \r\nL 108.015494 213.134183 \r\nL 110.452841 214.875996 \r\nL 112.890187 216.364432 \r\nL 115.632202 217.78249 \r\nL 118.678885 219.091821 \r\nL 122.030236 220.266513 \r\nL 125.686256 221.292613 \r\nL 129.646944 222.166701 \r\nL 134.216969 222.938728 \r\nL 139.39633 223.584725 \r\nL 145.794364 224.143639 \r\nL 153.411072 224.578017 \r\nL 163.465126 224.916709 \r\nL 177.784536 225.155328 \r\nL 201.243996 225.29534 \r\nL 257.9123 225.350215 \r\nL 369.725568 225.354801 \r\nL 369.725568 225.354801 \r\n\" style=\"fill:none;stroke:#1f77b4;stroke-linecap:square;stroke-width:2;\"/>\r\n   </g>\r\n   <g id=\"patch_3\">\r\n    <path d=\"M 50.14375 235.238438 \r\nL 50.14375 17.798437 \r\n\" style=\"fill:none;stroke:#000000;stroke-linecap:square;stroke-linejoin:miter;stroke-width:0.8;\"/>\r\n   </g>\r\n   <g id=\"patch_4\">\r\n    <path d=\"M 384.94375 235.238438 \r\nL 384.94375 17.798437 \r\n\" style=\"fill:none;stroke:#000000;stroke-linecap:square;stroke-linejoin:miter;stroke-width:0.8;\"/>\r\n   </g>\r\n   <g id=\"patch_5\">\r\n    <path d=\"M 50.14375 235.238438 \r\nL 384.94375 235.238438 \r\n\" style=\"fill:none;stroke:#000000;stroke-linecap:square;stroke-linejoin:miter;stroke-width:0.8;\"/>\r\n   </g>\r\n   <g id=\"patch_6\">\r\n    <path d=\"M 50.14375 17.798438 \r\nL 384.94375 17.798438 \r\n\" style=\"fill:none;stroke:#000000;stroke-linecap:square;stroke-linejoin:miter;stroke-width:0.8;\"/>\r\n   </g>\r\n  </g>\r\n </g>\r\n <defs>\r\n  <clipPath id=\"p6eb2ed61b3\">\r\n   <rect height=\"217.44\" width=\"334.8\" x=\"50.14375\" y=\"17.798438\"/>\r\n  </clipPath>\r\n </defs>\r\n</svg>\r\n",
      "image/png": "[encoded data removed]"
     },
     "metadata": {
      "needs_background": "light"
     }
    }
   ],
   "source": [
    "# Elegir algun valor para alpha (probar varias alternativas)\n",
    "alpha = 0.01\n",
    "num_iters = 1000\n",
    "\n",
    "# inicializa theta y ejecuta el descenso por el gradiente\n",
    "theta = np.zeros(9)\n",
    "theta, J_history = gradientDescentMulti(x, y, theta, alpha, num_iters)\n",
    "\n",
    "# Grafica la convergencia del costo\n",
    "pyplot.plot(np.arange(len(J_history)), J_history, lw=2)\n",
    "pyplot.xlabel('Numero de iteraciones')\n",
    "pyplot.ylabel('Costo J')\n",
    "\n",
    "# Muestra los resultados del descenso por el gradiente\n",
    "print('theta calculado por el descenso por el gradiente: {:s}'.format(str(theta)))\n",
    "\n",
    "#Cuartos,Baños,GARAGE,Area,Construido,Año,Dis_Cento,Dis_Escuela,Precio\n",
    "# Estimar el precio para una casa de 1650 sq-ft, con 3 dormitorios\n",
    "X_array = [1,4,2,2,650,400,2000,255,2]\n",
    "X_array[1:] = (X_array[1:] - mu) / sigma\n",
    "price = np.dot(X_array, theta)   # Se debe cambiar esto\n",
    "\n",
    "print('El precio predecido para una casa de 1650 sq-ft y 3 dormitorios (usando el descenso por el gradiente): ${:.0f}'.format(price))"
   ]
  },
  {
   "cell_type": "code",
   "execution_count": 44,
   "metadata": {},
   "outputs": [],
   "source": [
    "X_array = [1,4,2,2,650,400,2000,255,2]\n",
    "X_array[1:] = (X_array[1:] - mu) / sigma"
   ]
  },
  {
   "cell_type": "code",
   "execution_count": 45,
   "metadata": {},
   "outputs": [
    {
     "output_type": "execute_result",
     "data": {
      "text/plain": [
       "[0.684564803207746, 0.3409971697352369]"
      ]
     },
     "metadata": {},
     "execution_count": 45
    }
   ],
   "source": [
    "X_array[1:3]"
   ]
  },
  {
   "cell_type": "markdown",
   "metadata": {},
   "source": [
    "<a id=\"section7\"></a>\n",
    "### 2.3 Ecuacion de la Normal\n",
    "\n",
    "Una manera de calcular rapidamente el modelo de una regresion lineal es:\n",
    "\n",
    "$$ \\theta = \\left( X^T X\\right)^{-1} X^T\\vec{y}$$\n",
    "\n",
    "Utilizando esta formula no requiere que se escale ninguna caracteristica, y se obtendra una solucion exacta con un solo calculo: no hay “bucles de convergencia” como en el descenso por el gradiente. \n",
    "\n",
    "Primero se recargan los datos para garantizar que las variables no esten modificadas. Recordar que no es necesario escalar las caracteristicas, se debe agregar la columna de unos a la matriz $X$ para tener el termino de intersección($\\theta_0$). "
   ]
  },
  {
   "cell_type": "code",
   "execution_count": 46,
   "metadata": {},
   "outputs": [],
   "source": [
    "# Cargar datos\n",
    "#data = np.loadtxt(os.path.join('Datasets', 'ex1data2.txt'), delimiter=',')\n",
    "x = numpy_array[:, :8]\n",
    "y = numpy_array[:, 8]\n",
    "m = y.size\n",
    "X = np.concatenate([np.ones((m, 1)), x], axis=1)"
   ]
  },
  {
   "cell_type": "code",
   "execution_count": 47,
   "metadata": {},
   "outputs": [],
   "source": [
    "def normalEqn(X, y):\n",
    "    theta = np.zeros(X.shape[1])\n",
    "    theta = np.dot(np.dot(np.linalg.inv(np.dot(X.T,X)),X.T),y)\n",
    "    return theta"
   ]
  },
  {
   "cell_type": "code",
   "execution_count": 48,
   "metadata": {},
   "outputs": [
    {
     "output_type": "stream",
     "name": "stdout",
     "text": [
      "Theta calculado a partir de la ecuación de la normal: [ 1.16296715e+05 -2.18848266e+04  1.57884597e+04  2.53591031e+03\n  1.19588743e+00  3.79767465e+03  3.33218639e+01 -1.09422632e+01\n -3.30526598e+03]\nPrecio predecido para una cada de superficie de 1650 sq-ft y 3 dormitorios (usando la ecuación de la normal): $1642496\n"
     ]
    }
   ],
   "source": [
    "# Calcula los parametros con la ecuación de la normal\n",
    "theta = normalEqn(X, y)\n",
    "\n",
    "# Muestra los resultados optenidos a partir de la aplicación de la ecuación de la normal\n",
    "print('Theta calculado a partir de la ecuación de la normal: {:s}'.format(str(theta)));\n",
    "\n",
    "# Estimar el precio para una casa de superficie de 1650 sq-ft y tres dormitorios\n",
    "\n",
    "X_array = [1,4,2,2,650,400,2000,255,2]\n",
    "price = np.dot(X_array, theta) \n",
    "\n",
    "print('Precio predecido para una cada de superficie de 1650 sq-ft y 3 dormitorios (usando la ecuación de la normal): ${:.0f}'.format(price))"
   ]
  }
 ],
 "metadata": {
  "kernelspec": {
   "name": "python391jvsc74a57bd0c569cd2e17f62341e0f08a54f9a867c3c0d3a6f67454072d7de41a8b5dff8343",
   "display_name": "Python 3.9.1 64-bit"
  },
  "language_info": {
   "codemirror_mode": {
    "name": "ipython",
    "version": 3
   },
   "file_extension": ".py",
   "mimetype": "text/x-python",
   "name": "python",
   "nbconvert_exporter": "python",
   "pygments_lexer": "ipython3",
   "version": "3.9.1"
  },
  "metadata": {
   "interpreter": {
    "hash": "c569cd2e17f62341e0f08a54f9a867c3c0d3a6f67454072d7de41a8b5dff8343"
   }
  }
 },
 "nbformat": 4,
 "nbformat_minor": 2
}