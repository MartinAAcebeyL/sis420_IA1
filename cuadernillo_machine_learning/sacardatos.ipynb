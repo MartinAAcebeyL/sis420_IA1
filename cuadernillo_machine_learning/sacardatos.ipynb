{
 "cells": [
  {
   "cell_type": "code",
   "execution_count": 1,
   "metadata": {},
   "outputs": [],
   "source": [
    "import os\n",
    "import numpy as np \n",
    "import pandas as pd \n",
    "\n",
    "from matplotlib import pyplot\n",
    "from mpl_toolkits.mplot3d import Axes3D"
   ]
  },
  {
   "cell_type": "markdown",
   "metadata": {},
   "source": [
    "## Extrayendo datos"
   ]
  },
  {
   "cell_type": "code",
   "execution_count": 2,
   "metadata": {},
   "outputs": [
    {
     "name": "stdout",
     "output_type": "stream",
     "text": [
      "      temperatura\n",
      "0         7.72768\n",
      "1         8.93600\n",
      "2        16.96320\n",
      "3        21.27410\n",
      "4        26.04970\n",
      "...           ...\n",
      "1387     27.63320\n",
      "1388     26.71790\n",
      "1389     22.39820\n",
      "1390     15.76720\n",
      "1391     12.87630\n",
      "\n",
      "[1392 rows x 1 columns]\n"
     ]
    }
   ],
   "source": [
    "# Cargar datos\n",
    "\n",
    "data = pd.read_csv('datasets/temperatura.csv',delimiter=',')\n",
    "\n",
    "dic = dict(data)\n",
    "\n",
    "new_data=pd.DataFrame(dic,columns=['Temperature'])\n",
    "\n",
    "new_data = new_data.rename(columns={'Temperature':'temperatura'})\n",
    "print(new_data)"
   ]
  },
  {
   "cell_type": "code",
   "execution_count": 6,
   "metadata": {},
   "outputs": [],
   "source": [
    "new_data.reset_index().to_csv('temp.csv', header=True,index=False)"
   ]
  },
  {
   "cell_type": "code",
   "execution_count": null,
   "metadata": {},
   "outputs": [],
   "source": [
    "dic = dict(new_data)\n",
    "print(dic)"
   ]
  },
  {
   "cell_type": "code",
   "execution_count": null,
   "metadata": {},
   "outputs": [],
   "source": [
    "data = pd.read_csv('datasets/all_casa.csv',delimiter=',')\n",
    "data[:5]"
   ]
  },
  {
   "cell_type": "code",
   "execution_count": null,
   "metadata": {},
   "outputs": [],
   "source": [
    "data = pd.read_csv('datasets/all_casa.csv',delimiter=',')\n",
    "dic  = dict(data)\n",
    "#print(data)\n",
    "\n",
    "data = pd.DataFrame(dic, columns=['BEDROOMS', 'BATHROOMS', 'GARAGE', 'LAND_AREA', 'FLOOR_AREA', 'BUILD_YEAR', 'CBD_DIST', 'NEAREST_SCH_DIST','LATITUDE', 'LONGITUDE','PRICE','ADDRESS', 'DATE_SOLD'])\n",
    "data = data[:120]\n",
    "\n",
    "data = data.rename(columns={'ADDRESS':'Direccion'})\n",
    "data = data.rename(columns={'PRICE':'Precio'})\n",
    "data = data.rename(columns={'BEDROOMS':'Cuartos'})\n",
    "data = data.rename(columns={'BATHROOMS':'Baños'})\n",
    "data = data.rename(columns={'LAND_AREA':'Area'})\n",
    "\n",
    "data = data.rename(columns={'FLOOR_AREA':'Construido'})\n",
    "data = data.rename(columns={'BUILD_YEAR':'Año'})\n",
    "data = data.rename(columns={'CBD_DIST':'Dis_Cento'})\n",
    "data = data.rename(columns={'DATE_SOLD':'Ult_venta'})\n",
    "data = data.rename(columns={'NEAREST_SCH_DIST':'Dis_Escuela'})\n",
    "data = pd.DataFrame(data)\n",
    "\n",
    "#print(data[:5])\n",
    "\n",
    "data.reset_index().to_csv('Data_Casas.csv', header=True, index=False)"
   ]
  },
  {
   "cell_type": "code",
   "execution_count": null,
   "metadata": {},
   "outputs": [],
   "source": [
    "data = pd.read_csv('datasets/Data_Casas.csv')\n",
    "\n",
    "d = pd.DataFrame(data)\n",
    "print(d)"
   ]
  },
  {
   "cell_type": "code",
   "execution_count": null,
   "metadata": {},
   "outputs": [],
   "source": [
    "data = pd.read_csv('framingham.csv',delimiter=',')\n",
    "print(data.head())"
   ]
  },
  {
   "cell_type": "code",
   "execution_count": 10,
   "metadata": {},
   "outputs": [],
   "source": [
    "#https://www.kaggle.com/dileep070/heart-disease-prediction-using-logistic-regression\n",
    "\n",
    "data = pd.read_csv('framingham.csv',delimiter=',')\n",
    "data = pd.DataFrame(data)\n",
    "\n",
    "data = data[:120]\n",
    "\n",
    "data = data.rename(columns={'male':'sexo'})\n",
    "data = data.rename(columns={'age':'edad'})\n",
    "data = data.rename(columns={'currentSmoker':'fumador'})\n",
    "data = data.rename(columns={'cigsPerDay':'cigarrillos_x_dia'})\n",
    "data = data.rename(columns={'BPMeds':'medicamento_arterial'})\n",
    "data = data.rename(columns={'prevalentStroke':'accidente_cerebrovascular'})\n",
    "data = data.rename(columns={'prevalentHyp':'hipertenso'})\n",
    "data = data.rename(columns={'totChol':'nivel_colesterol'})\n",
    "data = data.rename(columns={'sysBP':'presión_arterial_sistólica'})\n",
    "data = data.rename(columns={'diaBP':'presión_arterial_diastólica'})\n",
    "data = data.rename(columns={'BMI':'masa_corporal'})\n",
    "data = data.rename(columns={'heartRate':'frecuencia_cardíaca'})\n",
    "data = data.rename(columns={'TenYearCHD':'enfermedad_cardiacas'})\n",
    "\n",
    "data = data.fillna(0)\n",
    "\n",
    "data.reset_index().to_csv('endeCardi.csv', header=True,index=False)"
   ]
  },
  {
   "cell_type": "code",
   "execution_count": null,
   "metadata": {},
   "outputs": [],
   "source": []
  }
 ],
 "metadata": {
  "interpreter": {
   "hash": "c569cd2e17f62341e0f08a54f9a867c3c0d3a6f67454072d7de41a8b5dff8343"
  },
  "kernelspec": {
   "display_name": "Python 3.9.1 64-bit",
   "name": "python3"
  },
  "language_info": {
   "codemirror_mode": {
    "name": "ipython",
    "version": 3
   },
   "file_extension": ".py",
   "mimetype": "text/x-python",
   "name": "python",
   "nbconvert_exporter": "python",
   "pygments_lexer": "ipython3",
   "version": "3.9.1"
  },
  "metadata": {
   "interpreter": {
    "hash": "c569cd2e17f62341e0f08a54f9a867c3c0d3a6f67454072d7de41a8b5dff8343"
   }
  },
  "orig_nbformat": 2
 },
 "nbformat": 4,
 "nbformat_minor": 2
}
