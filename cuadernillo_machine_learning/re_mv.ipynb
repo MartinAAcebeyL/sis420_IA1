{
 "metadata": {
  "language_info": {
   "codemirror_mode": {
    "name": "ipython",
    "version": 3
   },
   "file_extension": ".py",
   "mimetype": "text/x-python",
   "name": "python",
   "nbconvert_exporter": "python",
   "pygments_lexer": "ipython3",
   "version": 3
  },
  "orig_nbformat": 2
 },
 "nbformat": 4,
 "nbformat_minor": 2,
 "cells": [
  {
   "cell_type": "code",
   "execution_count": null,
   "metadata": {},
   "outputs": [],
   "source": [
    "import os\n",
    "import numpy as np \n",
    "\n",
    "from matplotlib import pyplot\n",
    "from mpl_toolkits.mplot3d import Axes3D"
   ]
  },
  {
   "source": [
    "## Extrayendo datos"
   ],
   "cell_type": "markdown",
   "metadata": {}
  },
  {
   "cell_type": "code",
   "execution_count": null,
   "metadata": {},
   "outputs": [],
   "source": [
    "# Cargar datos\r\n",
    "data = np.loadtxt(os.path.join('Datasets', 'ex1data2.txt'), delimiter=',')\r\n",
    "X = data[:, :2]\r\n",
    "y = data[:, 2]\r\n",
    "m = y.size\r\n",
    "\r\n",
    "# imprimir algunos puntos de datos\r\n",
    "print('{:>8s}{:>10s}{:>6s}'.format('X[:,0]', 'X[:, 1]', 'y'))\r\n",
    "print('-'*26)\r\n",
    "for i in range(10):\r\n",
    "    print('{:8.0f}{:8.0f}{:10.0f}'.format(X[i, 0], X[i, 1], y[i]))\r\n"
   ]
  }
 ]
}